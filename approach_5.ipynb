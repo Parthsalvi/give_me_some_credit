{
 "cells": [
  {
   "cell_type": "markdown",
   "metadata": {},
   "source": [
    "# Import Libraries"
   ]
  },
  {
   "cell_type": "code",
   "execution_count": 2,
   "metadata": {
    "collapsed": true
   },
   "outputs": [],
   "source": [
    "# Ignore warnings\n",
    "import warnings\n",
    "warnings.filterwarnings('ignore')\n",
    "\n",
    "# Handle table-like data and matrices\n",
    "import numpy as np\n",
    "import pandas as pd\n",
    "\n",
    "\n",
    "# Modelling Helpers\n",
    "from sklearn.preprocessing import Imputer , Normalizer , scale\n",
    "from sklearn.feature_selection import RFECV\n",
    "\n",
    "# Visualisation\n",
    "import matplotlib as mpl\n",
    "import matplotlib.pyplot as plt\n",
    "import matplotlib.pylab as pylab\n",
    "import seaborn as sns\n",
    "\n",
    "# Configure visualisations\n",
    "%matplotlib inline\n",
    "mpl.style.use( 'ggplot' )\n",
    "sns.set_style( 'white' )\n",
    "pylab.rcParams[ 'figure.figsize' ] = 8 , 6"
   ]
  },
  {
   "cell_type": "markdown",
   "metadata": {},
   "source": [
    "# Helper functions"
   ]
  },
  {
   "cell_type": "markdown",
   "metadata": {},
   "source": [
    "# Import Data"
   ]
  },
  {
   "cell_type": "code",
   "execution_count": 4,
   "metadata": {
    "collapsed": true
   },
   "outputs": [],
   "source": [
    "data = pd.read_csv(\"input/train.csv\")\n",
    "del data['Unnamed: 0']"
   ]
  },
  {
   "cell_type": "raw",
   "metadata": {},
   "source": [
    "1) SeriousDlqin2yrs----------------------------------------\n",
    "        Person experienced 90 days past due delinquency or worse - Y/N\n",
    "2) RevolvingUtilizationOfUnsecuredLines -------------------------------------------------------\n",
    "        Total balance on credit cards and personal lines of credit except real estate and no installment debt like car loans\n",
    "            divided by the sum of credit limits - %\n",
    "3) age ---------------------------------------------------------\n",
    "        Age of borrower in years - integer\n",
    "4) NumberOfTime30-59DaysPastDueNotWorse ---------------------------------------\n",
    "        Number of times borrower has been 30-59 days past due but no worse in the last 2 years. - integer\n",
    "5) Debt Ratio -----------------------------------------\n",
    "        Monthly debt payments, alimony,living costs divided by monthy gross income - %\n",
    "6) MontlyInocome -------------------------------------------\n",
    "        monthly income - real \n",
    "7) NumberOfOpenCreditLinesAndLoans ---------------------------------------------\n",
    "        Number of Open loans (installment like car loan or mortgage) and Lines of credit (e.g. credit cards) - integer\n",
    "8) NumberOfTimes90DaysLate ----------------------------------------------\n",
    "        Number of times borrower has been 90 days or more past due.- integer\n",
    "9) NumberRealEstateLoansOrLines -----------------------------------------\n",
    "        Number of mortgage and real estate loans including home equity lines of credit - integer\n",
    "10) NumberOfTime60-89DaysPastDueNotWorse ----------------------------------\n",
    "        Number of times borrower has been 60-89 days past due but no worse in the last 2 years. - integer\n",
    "11) NumberOfDependents -----------------------------------------\n",
    "        Number of dependents in family excluding themselves (spouse, children etc.) - integer\n"
   ]
  },
  {
   "cell_type": "code",
   "execution_count": 5,
   "metadata": {},
   "outputs": [
    {
     "name": "stdout",
     "output_type": "stream",
     "text": [
      "Number of rows = 150000\n",
      "Number of cols = 11\n"
     ]
    }
   ],
   "source": [
    "rows,cols=data.shape\n",
    "print(\"Number of rows = {}\".format(rows))\n",
    "print(\"Number of cols = {}\".format(cols))"
   ]
  },
  {
   "cell_type": "code",
   "execution_count": 6,
   "metadata": {},
   "outputs": [
    {
     "name": "stdout",
     "output_type": "stream",
     "text": [
      "<class 'pandas.core.frame.DataFrame'>\n",
      "RangeIndex: 150000 entries, 0 to 149999\n",
      "Data columns (total 11 columns):\n",
      "SeriousDlqin2yrs                        150000 non-null int64\n",
      "RevolvingUtilizationOfUnsecuredLines    150000 non-null float64\n",
      "age                                     150000 non-null int64\n",
      "NumberOfTime30-59DaysPastDueNotWorse    150000 non-null int64\n",
      "DebtRatio                               150000 non-null float64\n",
      "MonthlyIncome                           120269 non-null float64\n",
      "NumberOfOpenCreditLinesAndLoans         150000 non-null int64\n",
      "NumberOfTimes90DaysLate                 150000 non-null int64\n",
      "NumberRealEstateLoansOrLines            150000 non-null int64\n",
      "NumberOfTime60-89DaysPastDueNotWorse    150000 non-null int64\n",
      "NumberOfDependents                      146076 non-null float64\n",
      "dtypes: float64(4), int64(7)\n",
      "memory usage: 12.6 MB\n"
     ]
    }
   ],
   "source": [
    "#description of data\n",
    "data.info()"
   ]
  },
  {
   "cell_type": "code",
   "execution_count": 7,
   "metadata": {},
   "outputs": [
    {
     "data": {
      "text/html": [
       "<div>\n",
       "<style>\n",
       "    .dataframe thead tr:only-child th {\n",
       "        text-align: right;\n",
       "    }\n",
       "\n",
       "    .dataframe thead th {\n",
       "        text-align: left;\n",
       "    }\n",
       "\n",
       "    .dataframe tbody tr th {\n",
       "        vertical-align: top;\n",
       "    }\n",
       "</style>\n",
       "<table border=\"1\" class=\"dataframe\">\n",
       "  <thead>\n",
       "    <tr style=\"text-align: right;\">\n",
       "      <th></th>\n",
       "      <th>SeriousDlqin2yrs</th>\n",
       "      <th>RevolvingUtilizationOfUnsecuredLines</th>\n",
       "      <th>age</th>\n",
       "      <th>NumberOfTime30-59DaysPastDueNotWorse</th>\n",
       "      <th>DebtRatio</th>\n",
       "      <th>MonthlyIncome</th>\n",
       "      <th>NumberOfOpenCreditLinesAndLoans</th>\n",
       "      <th>NumberOfTimes90DaysLate</th>\n",
       "      <th>NumberRealEstateLoansOrLines</th>\n",
       "      <th>NumberOfTime60-89DaysPastDueNotWorse</th>\n",
       "      <th>NumberOfDependents</th>\n",
       "    </tr>\n",
       "  </thead>\n",
       "  <tbody>\n",
       "    <tr>\n",
       "      <th>count</th>\n",
       "      <td>150000.000000</td>\n",
       "      <td>150000.000000</td>\n",
       "      <td>150000.000000</td>\n",
       "      <td>150000.000000</td>\n",
       "      <td>150000.000000</td>\n",
       "      <td>1.202690e+05</td>\n",
       "      <td>150000.000000</td>\n",
       "      <td>150000.000000</td>\n",
       "      <td>150000.000000</td>\n",
       "      <td>150000.000000</td>\n",
       "      <td>146076.000000</td>\n",
       "    </tr>\n",
       "    <tr>\n",
       "      <th>mean</th>\n",
       "      <td>0.066840</td>\n",
       "      <td>6.048438</td>\n",
       "      <td>52.295207</td>\n",
       "      <td>0.421033</td>\n",
       "      <td>353.005076</td>\n",
       "      <td>6.670221e+03</td>\n",
       "      <td>8.452760</td>\n",
       "      <td>0.265973</td>\n",
       "      <td>1.018240</td>\n",
       "      <td>0.240387</td>\n",
       "      <td>0.757222</td>\n",
       "    </tr>\n",
       "    <tr>\n",
       "      <th>std</th>\n",
       "      <td>0.249746</td>\n",
       "      <td>249.755371</td>\n",
       "      <td>14.771866</td>\n",
       "      <td>4.192781</td>\n",
       "      <td>2037.818523</td>\n",
       "      <td>1.438467e+04</td>\n",
       "      <td>5.145951</td>\n",
       "      <td>4.169304</td>\n",
       "      <td>1.129771</td>\n",
       "      <td>4.155179</td>\n",
       "      <td>1.115086</td>\n",
       "    </tr>\n",
       "    <tr>\n",
       "      <th>min</th>\n",
       "      <td>0.000000</td>\n",
       "      <td>0.000000</td>\n",
       "      <td>0.000000</td>\n",
       "      <td>0.000000</td>\n",
       "      <td>0.000000</td>\n",
       "      <td>0.000000e+00</td>\n",
       "      <td>0.000000</td>\n",
       "      <td>0.000000</td>\n",
       "      <td>0.000000</td>\n",
       "      <td>0.000000</td>\n",
       "      <td>0.000000</td>\n",
       "    </tr>\n",
       "    <tr>\n",
       "      <th>25%</th>\n",
       "      <td>0.000000</td>\n",
       "      <td>0.029867</td>\n",
       "      <td>41.000000</td>\n",
       "      <td>0.000000</td>\n",
       "      <td>0.175074</td>\n",
       "      <td>3.400000e+03</td>\n",
       "      <td>5.000000</td>\n",
       "      <td>0.000000</td>\n",
       "      <td>0.000000</td>\n",
       "      <td>0.000000</td>\n",
       "      <td>0.000000</td>\n",
       "    </tr>\n",
       "    <tr>\n",
       "      <th>50%</th>\n",
       "      <td>0.000000</td>\n",
       "      <td>0.154181</td>\n",
       "      <td>52.000000</td>\n",
       "      <td>0.000000</td>\n",
       "      <td>0.366508</td>\n",
       "      <td>5.400000e+03</td>\n",
       "      <td>8.000000</td>\n",
       "      <td>0.000000</td>\n",
       "      <td>1.000000</td>\n",
       "      <td>0.000000</td>\n",
       "      <td>0.000000</td>\n",
       "    </tr>\n",
       "    <tr>\n",
       "      <th>75%</th>\n",
       "      <td>0.000000</td>\n",
       "      <td>0.559046</td>\n",
       "      <td>63.000000</td>\n",
       "      <td>0.000000</td>\n",
       "      <td>0.868254</td>\n",
       "      <td>8.249000e+03</td>\n",
       "      <td>11.000000</td>\n",
       "      <td>0.000000</td>\n",
       "      <td>2.000000</td>\n",
       "      <td>0.000000</td>\n",
       "      <td>1.000000</td>\n",
       "    </tr>\n",
       "    <tr>\n",
       "      <th>max</th>\n",
       "      <td>1.000000</td>\n",
       "      <td>50708.000000</td>\n",
       "      <td>109.000000</td>\n",
       "      <td>98.000000</td>\n",
       "      <td>329664.000000</td>\n",
       "      <td>3.008750e+06</td>\n",
       "      <td>58.000000</td>\n",
       "      <td>98.000000</td>\n",
       "      <td>54.000000</td>\n",
       "      <td>98.000000</td>\n",
       "      <td>20.000000</td>\n",
       "    </tr>\n",
       "  </tbody>\n",
       "</table>\n",
       "</div>"
      ],
      "text/plain": [
       "       SeriousDlqin2yrs  RevolvingUtilizationOfUnsecuredLines            age  \\\n",
       "count     150000.000000                         150000.000000  150000.000000   \n",
       "mean           0.066840                              6.048438      52.295207   \n",
       "std            0.249746                            249.755371      14.771866   \n",
       "min            0.000000                              0.000000       0.000000   \n",
       "25%            0.000000                              0.029867      41.000000   \n",
       "50%            0.000000                              0.154181      52.000000   \n",
       "75%            0.000000                              0.559046      63.000000   \n",
       "max            1.000000                          50708.000000     109.000000   \n",
       "\n",
       "       NumberOfTime30-59DaysPastDueNotWorse      DebtRatio  MonthlyIncome  \\\n",
       "count                         150000.000000  150000.000000   1.202690e+05   \n",
       "mean                               0.421033     353.005076   6.670221e+03   \n",
       "std                                4.192781    2037.818523   1.438467e+04   \n",
       "min                                0.000000       0.000000   0.000000e+00   \n",
       "25%                                0.000000       0.175074   3.400000e+03   \n",
       "50%                                0.000000       0.366508   5.400000e+03   \n",
       "75%                                0.000000       0.868254   8.249000e+03   \n",
       "max                               98.000000  329664.000000   3.008750e+06   \n",
       "\n",
       "       NumberOfOpenCreditLinesAndLoans  NumberOfTimes90DaysLate  \\\n",
       "count                    150000.000000            150000.000000   \n",
       "mean                          8.452760                 0.265973   \n",
       "std                           5.145951                 4.169304   \n",
       "min                           0.000000                 0.000000   \n",
       "25%                           5.000000                 0.000000   \n",
       "50%                           8.000000                 0.000000   \n",
       "75%                          11.000000                 0.000000   \n",
       "max                          58.000000                98.000000   \n",
       "\n",
       "       NumberRealEstateLoansOrLines  NumberOfTime60-89DaysPastDueNotWorse  \\\n",
       "count                 150000.000000                         150000.000000   \n",
       "mean                       1.018240                              0.240387   \n",
       "std                        1.129771                              4.155179   \n",
       "min                        0.000000                              0.000000   \n",
       "25%                        0.000000                              0.000000   \n",
       "50%                        1.000000                              0.000000   \n",
       "75%                        2.000000                              0.000000   \n",
       "max                       54.000000                             98.000000   \n",
       "\n",
       "       NumberOfDependents  \n",
       "count       146076.000000  \n",
       "mean             0.757222  \n",
       "std              1.115086  \n",
       "min              0.000000  \n",
       "25%              0.000000  \n",
       "50%              0.000000  \n",
       "75%              1.000000  \n",
       "max             20.000000  "
      ]
     },
     "execution_count": 7,
     "metadata": {},
     "output_type": "execute_result"
    }
   ],
   "source": [
    "data.describe()"
   ]
  },
  {
   "cell_type": "markdown",
   "metadata": {},
   "source": [
    "\n",
    "### Age bins of 10 years\n"
   ]
  },
  {
   "cell_type": "code",
   "execution_count": 8,
   "metadata": {},
   "outputs": [
    {
     "name": "stdout",
     "output_type": "stream",
     "text": [
      "(1, 11)\n",
      "(0, 11)\n"
     ]
    }
   ],
   "source": [
    "print(data[data['age']<20].shape)\n",
    "print(data[(data['age']<20)&(data['SeriousDlqin2yrs']==1)].shape)"
   ]
  },
  {
   "cell_type": "code",
   "execution_count": 10,
   "metadata": {},
   "outputs": [
    {
     "data": {
      "text/plain": [
       "(1, 11)"
      ]
     },
     "execution_count": 10,
     "metadata": {},
     "output_type": "execute_result"
    }
   ],
   "source": [
    "data[data['age']==0].shape"
   ]
  },
  {
   "cell_type": "code",
   "execution_count": 11,
   "metadata": {},
   "outputs": [
    {
     "name": "stdout",
     "output_type": "stream",
     "text": [
      "(8820, 11)\n",
      "(1035, 11)\n"
     ]
    }
   ],
   "source": [
    "print(data[(data['age']>20)&(data['age']<30)].shape)\n",
    "print(data[(data['age']>20)&(data['age']<30)&(data['SeriousDlqin2yrs']==1)].shape)"
   ]
  },
  {
   "cell_type": "code",
   "execution_count": 12,
   "metadata": {},
   "outputs": [
    {
     "name": "stdout",
     "output_type": "stream",
     "text": [
      "(21246, 11)\n",
      "(2126, 11)\n"
     ]
    }
   ],
   "source": [
    "print(data[(data['age']>30)&(data['age']<40)].shape)\n",
    "print(data[(data['age']>30)&(data['age']<40)&(data['SeriousDlqin2yrs']==1)].shape)"
   ]
  },
  {
   "cell_type": "code",
   "execution_count": 13,
   "metadata": {},
   "outputs": [
    {
     "name": "stdout",
     "output_type": "stream",
     "text": [
      "(31284, 11)\n",
      "(2614, 11)\n"
     ]
    }
   ],
   "source": [
    "print(data[(data['age']>40)&(data['age']<50)].shape)\n",
    "print(data[(data['age']>40)&(data['age']<50)&(data['SeriousDlqin2yrs']==1)].shape)"
   ]
  },
  {
   "cell_type": "code",
   "execution_count": 14,
   "metadata": {},
   "outputs": [
    {
     "name": "stdout",
     "output_type": "stream",
     "text": [
      "(31548, 11)\n",
      "(1999, 11)\n"
     ]
    }
   ],
   "source": [
    "print(data[(data['age']>50)&(data['age']<60)].shape)\n",
    "print(data[(data['age']>50)&(data['age']<60)&(data['SeriousDlqin2yrs']==1)].shape)"
   ]
  },
  {
   "cell_type": "code",
   "execution_count": 15,
   "metadata": {},
   "outputs": [
    {
     "name": "stdout",
     "output_type": "stream",
     "text": [
      "(25647, 11)\n",
      "(900, 11)\n"
     ]
    }
   ],
   "source": [
    "print(data[(data['age']>60)&(data['age']<70)].shape)\n",
    "print(data[(data['age']>60)&(data['age']<70)&(data['SeriousDlqin2yrs']==1)].shape)"
   ]
  },
  {
   "cell_type": "code",
   "execution_count": 16,
   "metadata": {},
   "outputs": [
    {
     "name": "stdout",
     "output_type": "stream",
     "text": [
      "(11824, 11)\n",
      "(279, 11)\n"
     ]
    }
   ],
   "source": [
    "print(data[(data['age']>70)&(data['age']<80)].shape)\n",
    "print(data[(data['age']>70)&(data['age']<80)&(data['SeriousDlqin2yrs']==1)].shape)"
   ]
  },
  {
   "cell_type": "code",
   "execution_count": 17,
   "metadata": {},
   "outputs": [
    {
     "name": "stdout",
     "output_type": "stream",
     "text": [
      "(4249, 11)\n",
      "(86, 11)\n"
     ]
    }
   ],
   "source": [
    "print(data[(data['age']>80)&(data['age']<90)].shape)\n",
    "print(data[(data['age']>80)&(data['age']<90)&(data['SeriousDlqin2yrs']==1)].shape)"
   ]
  },
  {
   "cell_type": "code",
   "execution_count": 18,
   "metadata": {},
   "outputs": [
    {
     "name": "stdout",
     "output_type": "stream",
     "text": [
      "(476, 11)\n",
      "(10, 11)\n"
     ]
    }
   ],
   "source": [
    "print(data[(data['age']>90)&(data['age']<100)].shape)\n",
    "print(data[(data['age']>90)&(data['age']<100)&(data['SeriousDlqin2yrs']==1)].shape)"
   ]
  },
  {
   "cell_type": "code",
   "execution_count": 19,
   "metadata": {},
   "outputs": [
    {
     "name": "stdout",
     "output_type": "stream",
     "text": [
      "(13, 11)\n",
      "(1, 11)\n"
     ]
    }
   ],
   "source": [
    "print(data[(data['age']>100)&(data['age']<110)].shape)\n",
    "print(data[(data['age']>100)&(data['age']<110)&(data['SeriousDlqin2yrs']==1)].shape)"
   ]
  },
  {
   "cell_type": "code",
   "execution_count": 20,
   "metadata": {},
   "outputs": [
    {
     "data": {
      "text/plain": [
       "<function matplotlib.pyplot.show>"
      ]
     },
     "execution_count": 20,
     "metadata": {},
     "output_type": "execute_result"
    },
    {
     "data": {
      "image/png": "[encoded data removed]",
      "text/plain": [
       "<matplotlib.figure.Figure at 0xa7a19b0>"
      ]
     },
     "metadata": {},
     "output_type": "display_data"
    }
   ],
   "source": [
    "plt.hist(data['age'],bins=[0,10,20,30,40,50,60,70,80,90,100,110])\n",
    "plt.show"
   ]
  },
  {
   "cell_type": "code",
   "execution_count": 21,
   "metadata": {},
   "outputs": [
    {
     "data": {
      "text/plain": [
       "<function matplotlib.pyplot.show>"
      ]
     },
     "execution_count": 21,
     "metadata": {},
     "output_type": "execute_result"
    },
    {
     "data": {
      "image/png": "[encoded data removed]",
      "text/plain": [
       "<matplotlib.figure.Figure at 0xa6fde48>"
      ]
     },
     "metadata": {},
     "output_type": "display_data"
    }
   ],
   "source": [
    "plt.hist(data['age'],bins=[0,30,40,50,60,70,80,90,150])\n",
    "plt.show"
   ]
  },
  {
   "cell_type": "raw",
   "metadata": {},
   "source": [
    " based on the above observation we can divide the age into bins"
   ]
  },
  {
   "cell_type": "code",
   "execution_count": 22,
   "metadata": {
    "collapsed": true
   },
   "outputs": [],
   "source": [
    "bins = np.array([-1,30,40,50,60,70,80,90,150])"
   ]
  },
  {
   "cell_type": "code",
   "execution_count": 23,
   "metadata": {},
   "outputs": [
    {
     "data": {
      "text/plain": [
       "(150000,)"
      ]
     },
     "execution_count": 23,
     "metadata": {},
     "output_type": "execute_result"
    }
   ],
   "source": [
    "inds = np.digitize(data['age'], bins, right=True)\n",
    "inds.shape"
   ]
  },
  {
   "cell_type": "code",
   "execution_count": 24,
   "metadata": {
    "collapsed": true
   },
   "outputs": [],
   "source": [
    "data['age_bins']=inds"
   ]
  },
  {
   "cell_type": "code",
   "execution_count": 23,
   "metadata": {
    "collapsed": true
   },
   "outputs": [],
   "source": [
    "#x=data['age']\n",
    "#for n in range(x.size):\n",
    "  # print(bins[inds[n]-1], \"<=\", x[n], \"<\", bins[inds[n]])"
   ]
  },
  {
   "cell_type": "code",
   "execution_count": 24,
   "metadata": {
    "collapsed": true
   },
   "outputs": [],
   "source": [
    "#data.info()"
   ]
  },
  {
   "cell_type": "code",
   "execution_count": 25,
   "metadata": {
    "collapsed": true
   },
   "outputs": [],
   "source": [
    "data_with_dummies = pd.get_dummies(data['age_bins'], prefix= 'age')"
   ]
  },
  {
   "cell_type": "code",
   "execution_count": 26,
   "metadata": {},
   "outputs": [
    {
     "name": "stdout",
     "output_type": "stream",
     "text": [
      "<class 'pandas.core.frame.DataFrame'>\n",
      "RangeIndex: 150000 entries, 0 to 149999\n",
      "Data columns (total 8 columns):\n",
      "age_1    150000 non-null uint8\n",
      "age_2    150000 non-null uint8\n",
      "age_3    150000 non-null uint8\n",
      "age_4    150000 non-null uint8\n",
      "age_5    150000 non-null uint8\n",
      "age_6    150000 non-null uint8\n",
      "age_7    150000 non-null uint8\n",
      "age_8    150000 non-null uint8\n",
      "dtypes: uint8(8)\n",
      "memory usage: 1.1 MB\n"
     ]
    },
    {
     "data": {
      "text/plain": [
       "(150000, 8)"
      ]
     },
     "execution_count": 26,
     "metadata": {},
     "output_type": "execute_result"
    }
   ],
   "source": [
    "data_with_dummies.info()\n",
    "data_with_dummies.shape"
   ]
  },
  {
   "cell_type": "code",
   "execution_count": 27,
   "metadata": {
    "collapsed": true
   },
   "outputs": [],
   "source": [
    "del data_with_dummies['age_8']"
   ]
  },
  {
   "cell_type": "code",
   "execution_count": 28,
   "metadata": {},
   "outputs": [
    {
     "name": "stdout",
     "output_type": "stream",
     "text": [
      "<class 'pandas.core.frame.DataFrame'>\n",
      "RangeIndex: 150000 entries, 0 to 149999\n",
      "Data columns (total 7 columns):\n",
      "age_1    150000 non-null uint8\n",
      "age_2    150000 non-null uint8\n",
      "age_3    150000 non-null uint8\n",
      "age_4    150000 non-null uint8\n",
      "age_5    150000 non-null uint8\n",
      "age_6    150000 non-null uint8\n",
      "age_7    150000 non-null uint8\n",
      "dtypes: uint8(7)\n",
      "memory usage: 1.0 MB\n"
     ]
    }
   ],
   "source": [
    "data_with_dummies.info()"
   ]
  },
  {
   "cell_type": "code",
   "execution_count": 27,
   "metadata": {
    "collapsed": true
   },
   "outputs": [],
   "source": [
    "#data['age_0']=data_with_dummies['age_0']"
   ]
  },
  {
   "cell_type": "code",
   "execution_count": 29,
   "metadata": {
    "collapsed": true
   },
   "outputs": [],
   "source": [
    "data['age_1']=data_with_dummies['age_1']"
   ]
  },
  {
   "cell_type": "code",
   "execution_count": 30,
   "metadata": {
    "collapsed": true
   },
   "outputs": [],
   "source": [
    "data['age_2']=data_with_dummies['age_2']"
   ]
  },
  {
   "cell_type": "code",
   "execution_count": 31,
   "metadata": {
    "collapsed": true
   },
   "outputs": [],
   "source": [
    "data['age_3']=data_with_dummies['age_3']"
   ]
  },
  {
   "cell_type": "code",
   "execution_count": 32,
   "metadata": {
    "collapsed": true
   },
   "outputs": [],
   "source": [
    "data['age_4']=data_with_dummies['age_4']"
   ]
  },
  {
   "cell_type": "code",
   "execution_count": 33,
   "metadata": {
    "collapsed": true
   },
   "outputs": [],
   "source": [
    "data['age_5']=data_with_dummies['age_5']"
   ]
  },
  {
   "cell_type": "code",
   "execution_count": 34,
   "metadata": {
    "collapsed": true
   },
   "outputs": [],
   "source": [
    "data['age_6']=data_with_dummies['age_6']"
   ]
  },
  {
   "cell_type": "code",
   "execution_count": 35,
   "metadata": {
    "collapsed": true
   },
   "outputs": [],
   "source": [
    "data['age_7']=data_with_dummies['age_7']"
   ]
  },
  {
   "cell_type": "code",
   "execution_count": 36,
   "metadata": {
    "collapsed": true
   },
   "outputs": [],
   "source": [
    "#data['age_8']=data_with_dummies['age_8']"
   ]
  },
  {
   "cell_type": "code",
   "execution_count": 36,
   "metadata": {
    "collapsed": true
   },
   "outputs": [],
   "source": [
    "#data['age_9']=data_with_dummies['age_9']"
   ]
  },
  {
   "cell_type": "code",
   "execution_count": 37,
   "metadata": {
    "collapsed": true
   },
   "outputs": [],
   "source": [
    "#data['age_10']=data_with_dummies['age_10']"
   ]
  },
  {
   "cell_type": "code",
   "execution_count": 36,
   "metadata": {
    "collapsed": true
   },
   "outputs": [],
   "source": [
    "del data['age']"
   ]
  },
  {
   "cell_type": "code",
   "execution_count": 37,
   "metadata": {
    "collapsed": true
   },
   "outputs": [],
   "source": [
    "del data['age_bins']"
   ]
  },
  {
   "cell_type": "code",
   "execution_count": 38,
   "metadata": {},
   "outputs": [
    {
     "name": "stdout",
     "output_type": "stream",
     "text": [
      "<class 'pandas.core.frame.DataFrame'>\n",
      "RangeIndex: 150000 entries, 0 to 149999\n",
      "Data columns (total 17 columns):\n",
      "SeriousDlqin2yrs                        150000 non-null int64\n",
      "RevolvingUtilizationOfUnsecuredLines    150000 non-null float64\n",
      "NumberOfTime30-59DaysPastDueNotWorse    150000 non-null int64\n",
      "DebtRatio                               150000 non-null float64\n",
      "MonthlyIncome                           120269 non-null float64\n",
      "NumberOfOpenCreditLinesAndLoans         150000 non-null int64\n",
      "NumberOfTimes90DaysLate                 150000 non-null int64\n",
      "NumberRealEstateLoansOrLines            150000 non-null int64\n",
      "NumberOfTime60-89DaysPastDueNotWorse    150000 non-null int64\n",
      "NumberOfDependents                      146076 non-null float64\n",
      "age_1                                   150000 non-null uint8\n",
      "age_2                                   150000 non-null uint8\n",
      "age_3                                   150000 non-null uint8\n",
      "age_4                                   150000 non-null uint8\n",
      "age_5                                   150000 non-null uint8\n",
      "age_6                                   150000 non-null uint8\n",
      "age_7                                   150000 non-null uint8\n",
      "dtypes: float64(4), int64(6), uint8(7)\n",
      "memory usage: 12.4 MB\n"
     ]
    }
   ],
   "source": [
    "data.info()"
   ]
  },
  {
   "cell_type": "markdown",
   "metadata": {
    "collapsed": true
   },
   "source": [
    "# Impute missing values with -1"
   ]
  },
  {
   "cell_type": "code",
   "execution_count": 39,
   "metadata": {
    "collapsed": true
   },
   "outputs": [],
   "source": [
    "data = data.fillna(-1)"
   ]
  },
  {
   "cell_type": "code",
   "execution_count": 40,
   "metadata": {
    "collapsed": true
   },
   "outputs": [],
   "source": [
    "#data.info()"
   ]
  },
  {
   "cell_type": "code",
   "execution_count": 41,
   "metadata": {
    "collapsed": true
   },
   "outputs": [],
   "source": [
    "#data.describe()"
   ]
  },
  {
   "cell_type": "markdown",
   "metadata": {},
   "source": [
    "# Number of Dependents"
   ]
  },
  {
   "cell_type": "code",
   "execution_count": 42,
   "metadata": {},
   "outputs": [
    {
     "name": "stdout",
     "output_type": "stream",
     "text": [
      "(3924, 17)\n",
      "(179, 17)\n"
     ]
    }
   ],
   "source": [
    "print(data[data['NumberOfDependents']==-1].shape)\n",
    "print(data[(data['NumberOfDependents']==-1)&(data['SeriousDlqin2yrs']==1)].shape)"
   ]
  },
  {
   "cell_type": "code",
   "execution_count": 43,
   "metadata": {},
   "outputs": [
    {
     "name": "stdout",
     "output_type": "stream",
     "text": [
      "(86902, 17)\n",
      "(5095, 17)\n"
     ]
    }
   ],
   "source": [
    "print(data[data['NumberOfDependents']==0].shape)\n",
    "print(data[(data['NumberOfDependents']==0)&(data['SeriousDlqin2yrs']==1)].shape)"
   ]
  },
  {
   "cell_type": "code",
   "execution_count": 44,
   "metadata": {},
   "outputs": [
    {
     "name": "stdout",
     "output_type": "stream",
     "text": [
      "(26316, 17)\n",
      "(1935, 17)\n"
     ]
    }
   ],
   "source": [
    "print(data[data['NumberOfDependents']==1].shape)\n",
    "print(data[(data['NumberOfDependents']==1)&(data['SeriousDlqin2yrs']==1)].shape)"
   ]
  },
  {
   "cell_type": "code",
   "execution_count": 45,
   "metadata": {},
   "outputs": [
    {
     "name": "stdout",
     "output_type": "stream",
     "text": [
      "(19522, 17)\n",
      "(1584, 17)\n"
     ]
    }
   ],
   "source": [
    "print(data[data['NumberOfDependents']==2].shape)\n",
    "print(data[(data['NumberOfDependents']==2)&(data['SeriousDlqin2yrs']==1)].shape)"
   ]
  },
  {
   "cell_type": "code",
   "execution_count": 46,
   "metadata": {},
   "outputs": [
    {
     "name": "stdout",
     "output_type": "stream",
     "text": [
      "(9483, 17)\n",
      "(837, 17)\n"
     ]
    }
   ],
   "source": [
    "print(data[data['NumberOfDependents']==3].shape)\n",
    "print(data[(data['NumberOfDependents']==3)&(data['SeriousDlqin2yrs']==1)].shape)"
   ]
  },
  {
   "cell_type": "code",
   "execution_count": 47,
   "metadata": {},
   "outputs": [
    {
     "name": "stdout",
     "output_type": "stream",
     "text": [
      "(2862, 17)\n",
      "(297, 17)\n"
     ]
    }
   ],
   "source": [
    "print(data[data['NumberOfDependents']==4].shape)\n",
    "print(data[(data['NumberOfDependents']==4)&(data['SeriousDlqin2yrs']==1)].shape)"
   ]
  },
  {
   "cell_type": "code",
   "execution_count": 48,
   "metadata": {},
   "outputs": [
    {
     "name": "stdout",
     "output_type": "stream",
     "text": [
      "(746, 17)\n",
      "(68, 17)\n"
     ]
    }
   ],
   "source": [
    "print(data[data['NumberOfDependents']==5].shape)\n",
    "print(data[(data['NumberOfDependents']==5)&(data['SeriousDlqin2yrs']==1)].shape)"
   ]
  },
  {
   "cell_type": "code",
   "execution_count": 49,
   "metadata": {},
   "outputs": [
    {
     "name": "stdout",
     "output_type": "stream",
     "text": [
      "(245, 17)\n",
      "(31, 17)\n"
     ]
    }
   ],
   "source": [
    "print(data[data['NumberOfDependents']>5].shape)\n",
    "print(data[(data['NumberOfDependents']>5)&(data['SeriousDlqin2yrs']==1)].shape)"
   ]
  },
  {
   "cell_type": "markdown",
   "metadata": {},
   "source": [
    "###### Imputing missing values in Number of dependents with 0"
   ]
  },
  {
   "cell_type": "code",
   "execution_count": 50,
   "metadata": {
    "collapsed": true
   },
   "outputs": [],
   "source": [
    "# 0 is the mode of NumberOfDependents\n",
    "data.loc[(data['NumberOfDependents']==-1),'NumberOfDependents']=0"
   ]
  },
  {
   "cell_type": "code",
   "execution_count": 51,
   "metadata": {
    "collapsed": true
   },
   "outputs": [],
   "source": [
    "bins = np.array([-1,0,1,2,3,4,50])"
   ]
  },
  {
   "cell_type": "code",
   "execution_count": 52,
   "metadata": {
    "collapsed": true
   },
   "outputs": [],
   "source": [
    "inds = np.digitize(data['NumberOfDependents'],bins,right=True)"
   ]
  },
  {
   "cell_type": "code",
   "execution_count": 53,
   "metadata": {
    "collapsed": true
   },
   "outputs": [],
   "source": [
    "x=data['NumberOfDependents']"
   ]
  },
  {
   "cell_type": "code",
   "execution_count": 54,
   "metadata": {
    "collapsed": true
   },
   "outputs": [],
   "source": [
    "#for n in range(x.size):\n",
    " #   print(bins[inds[n]-1], \"<=\", x[n], \"<\", bins[inds[n]])"
   ]
  },
  {
   "cell_type": "code",
   "execution_count": 55,
   "metadata": {
    "collapsed": true
   },
   "outputs": [],
   "source": [
    "data['dependents_bins']=inds"
   ]
  },
  {
   "cell_type": "code",
   "execution_count": 56,
   "metadata": {
    "collapsed": true
   },
   "outputs": [],
   "source": [
    "data_with_dummies_dep = pd.get_dummies(data['dependents_bins'], prefix= 'dep')"
   ]
  },
  {
   "cell_type": "code",
   "execution_count": 57,
   "metadata": {},
   "outputs": [
    {
     "name": "stdout",
     "output_type": "stream",
     "text": [
      "<class 'pandas.core.frame.DataFrame'>\n",
      "RangeIndex: 150000 entries, 0 to 149999\n",
      "Data columns (total 6 columns):\n",
      "dep_1    150000 non-null uint8\n",
      "dep_2    150000 non-null uint8\n",
      "dep_3    150000 non-null uint8\n",
      "dep_4    150000 non-null uint8\n",
      "dep_5    150000 non-null uint8\n",
      "dep_6    150000 non-null uint8\n",
      "dtypes: uint8(6)\n",
      "memory usage: 879.0 KB\n"
     ]
    }
   ],
   "source": [
    "data_with_dummies_dep.info()"
   ]
  },
  {
   "cell_type": "code",
   "execution_count": 58,
   "metadata": {
    "collapsed": true
   },
   "outputs": [],
   "source": [
    "del data_with_dummies_dep['dep_6']"
   ]
  },
  {
   "cell_type": "code",
   "execution_count": 59,
   "metadata": {},
   "outputs": [
    {
     "name": "stdout",
     "output_type": "stream",
     "text": [
      "<class 'pandas.core.frame.DataFrame'>\n",
      "RangeIndex: 150000 entries, 0 to 149999\n",
      "Data columns (total 5 columns):\n",
      "dep_1    150000 non-null uint8\n",
      "dep_2    150000 non-null uint8\n",
      "dep_3    150000 non-null uint8\n",
      "dep_4    150000 non-null uint8\n",
      "dep_5    150000 non-null uint8\n",
      "dtypes: uint8(5)\n",
      "memory usage: 732.5 KB\n"
     ]
    }
   ],
   "source": [
    "data_with_dummies_dep.info()"
   ]
  },
  {
   "cell_type": "code",
   "execution_count": 60,
   "metadata": {
    "collapsed": true
   },
   "outputs": [],
   "source": [
    "data['dep_1']=data_with_dummies_dep['dep_1']"
   ]
  },
  {
   "cell_type": "code",
   "execution_count": 61,
   "metadata": {
    "collapsed": true
   },
   "outputs": [],
   "source": [
    "data['dep_2']=data_with_dummies_dep['dep_2']"
   ]
  },
  {
   "cell_type": "code",
   "execution_count": 62,
   "metadata": {
    "collapsed": true
   },
   "outputs": [],
   "source": [
    "data['dep_3']=data_with_dummies_dep['dep_3']"
   ]
  },
  {
   "cell_type": "code",
   "execution_count": 63,
   "metadata": {
    "collapsed": true
   },
   "outputs": [],
   "source": [
    "data['dep_4']=data_with_dummies_dep['dep_4']"
   ]
  },
  {
   "cell_type": "code",
   "execution_count": 64,
   "metadata": {
    "collapsed": true
   },
   "outputs": [],
   "source": [
    "data['dep_5']=data_with_dummies_dep['dep_5']"
   ]
  },
  {
   "cell_type": "code",
   "execution_count": 65,
   "metadata": {
    "collapsed": true
   },
   "outputs": [],
   "source": [
    "del data['NumberOfDependents']"
   ]
  },
  {
   "cell_type": "code",
   "execution_count": 66,
   "metadata": {
    "collapsed": true
   },
   "outputs": [],
   "source": [
    "del data['dependents_bins']"
   ]
  },
  {
   "cell_type": "code",
   "execution_count": 67,
   "metadata": {
    "collapsed": true
   },
   "outputs": [],
   "source": [
    "#data.info()"
   ]
  },
  {
   "cell_type": "markdown",
   "metadata": {},
   "source": [
    "# 30-59 days past due"
   ]
  },
  {
   "cell_type": "code",
   "execution_count": 68,
   "metadata": {},
   "outputs": [
    {
     "data": {
      "text/plain": [
       "<function matplotlib.pyplot.show>"
      ]
     },
     "execution_count": 68,
     "metadata": {},
     "output_type": "execute_result"
    },
    {
     "data": {
      "image/png": "[encoded data removed]",
      "text/plain": [
       "<matplotlib.figure.Figure at 0xa70a518>"
      ]
     },
     "metadata": {},
     "output_type": "display_data"
    }
   ],
   "source": [
    "plt.hist(data['NumberOfTime30-59DaysPastDueNotWorse'],bins=[0,1,2,3,4,5])\n",
    "plt.show"
   ]
  },
  {
   "cell_type": "code",
   "execution_count": 69,
   "metadata": {},
   "outputs": [
    {
     "name": "stdout",
     "output_type": "stream",
     "text": [
      "(126018, 21)\n",
      "(5041, 21)\n"
     ]
    }
   ],
   "source": [
    "print(data[data['NumberOfTime30-59DaysPastDueNotWorse']==0].shape)\n",
    "print(data[(data['NumberOfTime30-59DaysPastDueNotWorse']==0)&(data['SeriousDlqin2yrs']==1)].shape)"
   ]
  },
  {
   "cell_type": "code",
   "execution_count": 70,
   "metadata": {},
   "outputs": [
    {
     "name": "stdout",
     "output_type": "stream",
     "text": [
      "(16033, 21)\n",
      "(2409, 21)\n"
     ]
    }
   ],
   "source": [
    "print(data[data['NumberOfTime30-59DaysPastDueNotWorse']==1].shape)\n",
    "print(data[(data['NumberOfTime30-59DaysPastDueNotWorse']==1)&(data['SeriousDlqin2yrs']==1)].shape)"
   ]
  },
  {
   "cell_type": "code",
   "execution_count": 71,
   "metadata": {},
   "outputs": [
    {
     "name": "stdout",
     "output_type": "stream",
     "text": [
      "(4598, 21)\n",
      "(1219, 21)\n"
     ]
    }
   ],
   "source": [
    "print(data[data['NumberOfTime30-59DaysPastDueNotWorse']==2].shape)\n",
    "print(data[(data['NumberOfTime30-59DaysPastDueNotWorse']==2)&(data['SeriousDlqin2yrs']==1)].shape)"
   ]
  },
  {
   "cell_type": "code",
   "execution_count": 72,
   "metadata": {},
   "outputs": [
    {
     "name": "stdout",
     "output_type": "stream",
     "text": [
      "(1754, 21)\n",
      "(618, 21)\n"
     ]
    }
   ],
   "source": [
    "print(data[data['NumberOfTime30-59DaysPastDueNotWorse']==3].shape)\n",
    "print(data[(data['NumberOfTime30-59DaysPastDueNotWorse']==3)&(data['SeriousDlqin2yrs']==1)].shape)"
   ]
  },
  {
   "cell_type": "code",
   "execution_count": 73,
   "metadata": {},
   "outputs": [
    {
     "name": "stdout",
     "output_type": "stream",
     "text": [
      "(747, 21)\n",
      "(318, 21)\n"
     ]
    }
   ],
   "source": [
    "print(data[data['NumberOfTime30-59DaysPastDueNotWorse']==4].shape)\n",
    "print(data[(data['NumberOfTime30-59DaysPastDueNotWorse']==4)&(data['SeriousDlqin2yrs']==1)].shape)"
   ]
  },
  {
   "cell_type": "code",
   "execution_count": 74,
   "metadata": {},
   "outputs": [
    {
     "name": "stdout",
     "output_type": "stream",
     "text": [
      "(342, 21)\n",
      "(154, 21)\n"
     ]
    }
   ],
   "source": [
    "print(data[data['NumberOfTime30-59DaysPastDueNotWorse']==5].shape)\n",
    "print(data[(data['NumberOfTime30-59DaysPastDueNotWorse']==5)&(data['SeriousDlqin2yrs']==1)].shape)"
   ]
  },
  {
   "cell_type": "code",
   "execution_count": 75,
   "metadata": {},
   "outputs": [
    {
     "name": "stdout",
     "output_type": "stream",
     "text": [
      "(140, 21)\n",
      "(74, 21)\n"
     ]
    }
   ],
   "source": [
    "print(data[data['NumberOfTime30-59DaysPastDueNotWorse']==6].shape)\n",
    "print(data[(data['NumberOfTime30-59DaysPastDueNotWorse']==6)&(data['SeriousDlqin2yrs']==1)].shape)"
   ]
  },
  {
   "cell_type": "code",
   "execution_count": 76,
   "metadata": {},
   "outputs": [
    {
     "name": "stdout",
     "output_type": "stream",
     "text": [
      "(54, 21)\n",
      "(28, 21)\n"
     ]
    }
   ],
   "source": [
    "print(data[data['NumberOfTime30-59DaysPastDueNotWorse']==7].shape)\n",
    "print(data[(data['NumberOfTime30-59DaysPastDueNotWorse']==7)&(data['SeriousDlqin2yrs']==1)].shape)"
   ]
  },
  {
   "cell_type": "code",
   "execution_count": 77,
   "metadata": {},
   "outputs": [
    {
     "name": "stdout",
     "output_type": "stream",
     "text": [
      "(25, 21)\n",
      "(8, 21)\n"
     ]
    }
   ],
   "source": [
    "print(data[data['NumberOfTime30-59DaysPastDueNotWorse']==8].shape)\n",
    "print(data[(data['NumberOfTime30-59DaysPastDueNotWorse']==8)&(data['SeriousDlqin2yrs']==1)].shape)"
   ]
  },
  {
   "cell_type": "code",
   "execution_count": 78,
   "metadata": {},
   "outputs": [
    {
     "name": "stdout",
     "output_type": "stream",
     "text": [
      "(3351, 21)\n",
      "(1357, 21)\n"
     ]
    }
   ],
   "source": [
    "print(data[data['NumberOfTime30-59DaysPastDueNotWorse']>=3].shape)\n",
    "print(data[(data['NumberOfTime30-59DaysPastDueNotWorse']>=3)&(data['SeriousDlqin2yrs']==1)].shape)"
   ]
  },
  {
   "cell_type": "code",
   "execution_count": 79,
   "metadata": {
    "collapsed": true
   },
   "outputs": [],
   "source": [
    "bins = np.array([-1,0,1,2,3,100])"
   ]
  },
  {
   "cell_type": "code",
   "execution_count": 80,
   "metadata": {
    "collapsed": true
   },
   "outputs": [],
   "source": [
    "inds = np.digitize(data['NumberOfTime30-59DaysPastDueNotWorse'],bins,right=True)"
   ]
  },
  {
   "cell_type": "code",
   "execution_count": 81,
   "metadata": {
    "collapsed": true
   },
   "outputs": [],
   "source": [
    "data['30_59_bins']=inds"
   ]
  },
  {
   "cell_type": "code",
   "execution_count": 82,
   "metadata": {
    "collapsed": true
   },
   "outputs": [],
   "source": [
    "data_with_dummies_30_59 = pd.get_dummies(data['30_59_bins'], prefix= '30_59')"
   ]
  },
  {
   "cell_type": "code",
   "execution_count": 83,
   "metadata": {},
   "outputs": [
    {
     "name": "stdout",
     "output_type": "stream",
     "text": [
      "<class 'pandas.core.frame.DataFrame'>\n",
      "RangeIndex: 150000 entries, 0 to 149999\n",
      "Data columns (total 5 columns):\n",
      "30_59_1    150000 non-null uint8\n",
      "30_59_2    150000 non-null uint8\n",
      "30_59_3    150000 non-null uint8\n",
      "30_59_4    150000 non-null uint8\n",
      "30_59_5    150000 non-null uint8\n",
      "dtypes: uint8(5)\n",
      "memory usage: 732.5 KB\n"
     ]
    }
   ],
   "source": [
    "data_with_dummies_30_59.info()"
   ]
  },
  {
   "cell_type": "code",
   "execution_count": 84,
   "metadata": {
    "collapsed": true
   },
   "outputs": [],
   "source": [
    "del data_with_dummies_30_59['30_59_5']"
   ]
  },
  {
   "cell_type": "code",
   "execution_count": 85,
   "metadata": {},
   "outputs": [
    {
     "name": "stdout",
     "output_type": "stream",
     "text": [
      "<class 'pandas.core.frame.DataFrame'>\n",
      "RangeIndex: 150000 entries, 0 to 149999\n",
      "Data columns (total 4 columns):\n",
      "30_59_1    150000 non-null uint8\n",
      "30_59_2    150000 non-null uint8\n",
      "30_59_3    150000 non-null uint8\n",
      "30_59_4    150000 non-null uint8\n",
      "dtypes: uint8(4)\n",
      "memory usage: 586.0 KB\n"
     ]
    }
   ],
   "source": [
    "data_with_dummies_30_59.info()"
   ]
  },
  {
   "cell_type": "code",
   "execution_count": 86,
   "metadata": {
    "collapsed": true
   },
   "outputs": [],
   "source": [
    "#x=data['NumberOfTime30-59DaysPastDueNotWorse']"
   ]
  },
  {
   "cell_type": "code",
   "execution_count": 87,
   "metadata": {
    "collapsed": true
   },
   "outputs": [],
   "source": [
    "#for n in range(x.size):\n",
    "   # print(bins[inds[n]-1], \"<=\", x[n], \"<\", bins[inds[n]])"
   ]
  },
  {
   "cell_type": "code",
   "execution_count": 88,
   "metadata": {
    "collapsed": true
   },
   "outputs": [],
   "source": [
    "data['30_59_1']=data_with_dummies_30_59['30_59_1']"
   ]
  },
  {
   "cell_type": "code",
   "execution_count": 89,
   "metadata": {
    "collapsed": true
   },
   "outputs": [],
   "source": [
    "data['30_59_2']=data_with_dummies_30_59['30_59_2']"
   ]
  },
  {
   "cell_type": "code",
   "execution_count": 90,
   "metadata": {
    "collapsed": true
   },
   "outputs": [],
   "source": [
    "data['30_59_3']=data_with_dummies_30_59['30_59_3']"
   ]
  },
  {
   "cell_type": "code",
   "execution_count": 91,
   "metadata": {
    "collapsed": true
   },
   "outputs": [],
   "source": [
    "data['30_59_4']=data_with_dummies_30_59['30_59_4']"
   ]
  },
  {
   "cell_type": "code",
   "execution_count": 92,
   "metadata": {
    "collapsed": true
   },
   "outputs": [],
   "source": [
    "#data['30_59_5']=data_with_dummies_30_59['30_59_5']"
   ]
  },
  {
   "cell_type": "code",
   "execution_count": 93,
   "metadata": {
    "collapsed": true
   },
   "outputs": [],
   "source": [
    "#data['30_59_6']=data_with_dummies_30_59['30_59_6']"
   ]
  },
  {
   "cell_type": "code",
   "execution_count": 94,
   "metadata": {
    "collapsed": true
   },
   "outputs": [],
   "source": [
    "#data.info()"
   ]
  },
  {
   "cell_type": "code",
   "execution_count": 95,
   "metadata": {
    "collapsed": true
   },
   "outputs": [],
   "source": [
    "del data['30_59_bins']"
   ]
  },
  {
   "cell_type": "code",
   "execution_count": 96,
   "metadata": {
    "collapsed": true
   },
   "outputs": [],
   "source": [
    "del data['NumberOfTime30-59DaysPastDueNotWorse']"
   ]
  },
  {
   "cell_type": "code",
   "execution_count": 97,
   "metadata": {
    "collapsed": true
   },
   "outputs": [],
   "source": [
    "#data.info()"
   ]
  },
  {
   "cell_type": "markdown",
   "metadata": {},
   "source": [
    "# 60-89 days past due"
   ]
  },
  {
   "cell_type": "code",
   "execution_count": 98,
   "metadata": {},
   "outputs": [
    {
     "data": {
      "text/plain": [
       "<function matplotlib.pyplot.show>"
      ]
     },
     "execution_count": 98,
     "metadata": {},
     "output_type": "execute_result"
    },
    {
     "data": {
      "image/png": "[encoded data removed]",
      "text/plain": [
       "<matplotlib.figure.Figure at 0xb8ddfd0>"
      ]
     },
     "metadata": {},
     "output_type": "display_data"
    }
   ],
   "source": [
    "plt.hist(data['NumberOfTime60-89DaysPastDueNotWorse'],bins=[0,1,2,3,4,5])\n",
    "plt.show"
   ]
  },
  {
   "cell_type": "code",
   "execution_count": 99,
   "metadata": {},
   "outputs": [
    {
     "name": "stdout",
     "output_type": "stream",
     "text": [
      "(142396, 24)\n",
      "(7256, 24)\n"
     ]
    }
   ],
   "source": [
    "print(data[data['NumberOfTime60-89DaysPastDueNotWorse']==0].shape)\n",
    "print(data[(data['NumberOfTime60-89DaysPastDueNotWorse']==0)&(data['SeriousDlqin2yrs']==1)].shape)"
   ]
  },
  {
   "cell_type": "code",
   "execution_count": 100,
   "metadata": {},
   "outputs": [
    {
     "name": "stdout",
     "output_type": "stream",
     "text": [
      "(5731, 24)\n",
      "(1777, 24)\n"
     ]
    }
   ],
   "source": [
    "print(data[data['NumberOfTime60-89DaysPastDueNotWorse']==1].shape)\n",
    "print(data[(data['NumberOfTime60-89DaysPastDueNotWorse']==1)&(data['SeriousDlqin2yrs']==1)].shape)"
   ]
  },
  {
   "cell_type": "code",
   "execution_count": 101,
   "metadata": {},
   "outputs": [
    {
     "name": "stdout",
     "output_type": "stream",
     "text": [
      "(1118, 24)\n",
      "(561, 24)\n"
     ]
    }
   ],
   "source": [
    "print(data[data['NumberOfTime60-89DaysPastDueNotWorse']==2].shape)\n",
    "print(data[(data['NumberOfTime60-89DaysPastDueNotWorse']==2)&(data['SeriousDlqin2yrs']==1)].shape)"
   ]
  },
  {
   "cell_type": "code",
   "execution_count": 102,
   "metadata": {},
   "outputs": [
    {
     "name": "stdout",
     "output_type": "stream",
     "text": [
      "(318, 24)\n",
      "(180, 24)\n"
     ]
    }
   ],
   "source": [
    "print(data[data['NumberOfTime60-89DaysPastDueNotWorse']==3].shape)\n",
    "print(data[(data['NumberOfTime60-89DaysPastDueNotWorse']==3)&(data['SeriousDlqin2yrs']==1)].shape)"
   ]
  },
  {
   "cell_type": "code",
   "execution_count": 103,
   "metadata": {},
   "outputs": [
    {
     "name": "stdout",
     "output_type": "stream",
     "text": [
      "(105, 24)\n",
      "(65, 24)\n"
     ]
    }
   ],
   "source": [
    "print(data[data['NumberOfTime60-89DaysPastDueNotWorse']==4].shape)\n",
    "print(data[(data['NumberOfTime60-89DaysPastDueNotWorse']==4)&(data['SeriousDlqin2yrs']==1)].shape)"
   ]
  },
  {
   "cell_type": "code",
   "execution_count": 104,
   "metadata": {
    "collapsed": true
   },
   "outputs": [],
   "source": [
    "bins = np.array([-1,0,1,2,3,100])"
   ]
  },
  {
   "cell_type": "code",
   "execution_count": 105,
   "metadata": {
    "collapsed": true
   },
   "outputs": [],
   "source": [
    "inds = np.digitize(data['NumberOfTime60-89DaysPastDueNotWorse'],bins,right=True)"
   ]
  },
  {
   "cell_type": "code",
   "execution_count": 106,
   "metadata": {
    "collapsed": true
   },
   "outputs": [],
   "source": [
    "data['60_bins']=inds"
   ]
  },
  {
   "cell_type": "code",
   "execution_count": 107,
   "metadata": {
    "collapsed": true
   },
   "outputs": [],
   "source": [
    "data_with_dummies_60 = pd.get_dummies(data['60_bins'], prefix= '60')"
   ]
  },
  {
   "cell_type": "code",
   "execution_count": 108,
   "metadata": {},
   "outputs": [
    {
     "name": "stdout",
     "output_type": "stream",
     "text": [
      "<class 'pandas.core.frame.DataFrame'>\n",
      "RangeIndex: 150000 entries, 0 to 149999\n",
      "Data columns (total 5 columns):\n",
      "60_1    150000 non-null uint8\n",
      "60_2    150000 non-null uint8\n",
      "60_3    150000 non-null uint8\n",
      "60_4    150000 non-null uint8\n",
      "60_5    150000 non-null uint8\n",
      "dtypes: uint8(5)\n",
      "memory usage: 732.5 KB\n"
     ]
    }
   ],
   "source": [
    "data_with_dummies_60.info()"
   ]
  },
  {
   "cell_type": "code",
   "execution_count": 109,
   "metadata": {
    "collapsed": true
   },
   "outputs": [],
   "source": [
    "del data_with_dummies_60['60_5']"
   ]
  },
  {
   "cell_type": "code",
   "execution_count": 110,
   "metadata": {},
   "outputs": [
    {
     "name": "stdout",
     "output_type": "stream",
     "text": [
      "<class 'pandas.core.frame.DataFrame'>\n",
      "RangeIndex: 150000 entries, 0 to 149999\n",
      "Data columns (total 4 columns):\n",
      "60_1    150000 non-null uint8\n",
      "60_2    150000 non-null uint8\n",
      "60_3    150000 non-null uint8\n",
      "60_4    150000 non-null uint8\n",
      "dtypes: uint8(4)\n",
      "memory usage: 586.0 KB\n"
     ]
    }
   ],
   "source": [
    "data_with_dummies_60.info()"
   ]
  },
  {
   "cell_type": "code",
   "execution_count": 111,
   "metadata": {
    "collapsed": true
   },
   "outputs": [],
   "source": [
    "#x=data['NumberOfTime60-89DaysPastDueNotWorse']"
   ]
  },
  {
   "cell_type": "code",
   "execution_count": 112,
   "metadata": {
    "collapsed": true
   },
   "outputs": [],
   "source": [
    "#for n in range(x.size):\n",
    "   # print(bins[inds[n]-1], \"<=\", x[n], \"<\", bins[inds[n]])"
   ]
  },
  {
   "cell_type": "code",
   "execution_count": 113,
   "metadata": {
    "collapsed": true
   },
   "outputs": [],
   "source": [
    "data['60_1']=data_with_dummies_60['60_1']"
   ]
  },
  {
   "cell_type": "code",
   "execution_count": 114,
   "metadata": {
    "collapsed": true
   },
   "outputs": [],
   "source": [
    "data['60_2']=data_with_dummies_60['60_2']"
   ]
  },
  {
   "cell_type": "code",
   "execution_count": 115,
   "metadata": {
    "collapsed": true
   },
   "outputs": [],
   "source": [
    "data['60_3']=data_with_dummies_60['60_3']"
   ]
  },
  {
   "cell_type": "code",
   "execution_count": 116,
   "metadata": {
    "collapsed": true
   },
   "outputs": [],
   "source": [
    "data['60_4']=data_with_dummies_60['60_4']"
   ]
  },
  {
   "cell_type": "code",
   "execution_count": 117,
   "metadata": {
    "collapsed": true
   },
   "outputs": [],
   "source": [
    "#data['60_5']=data_with_dummies_60['60_5']"
   ]
  },
  {
   "cell_type": "code",
   "execution_count": 118,
   "metadata": {
    "collapsed": true
   },
   "outputs": [],
   "source": [
    "#data['60_6']=data_with_dummies_60['60_6']"
   ]
  },
  {
   "cell_type": "code",
   "execution_count": 119,
   "metadata": {
    "collapsed": true
   },
   "outputs": [],
   "source": [
    "del data['60_bins']"
   ]
  },
  {
   "cell_type": "code",
   "execution_count": 120,
   "metadata": {
    "collapsed": true
   },
   "outputs": [],
   "source": [
    "del data['NumberOfTime60-89DaysPastDueNotWorse']"
   ]
  },
  {
   "cell_type": "code",
   "execution_count": 121,
   "metadata": {},
   "outputs": [
    {
     "name": "stdout",
     "output_type": "stream",
     "text": [
      "<class 'pandas.core.frame.DataFrame'>\n",
      "RangeIndex: 150000 entries, 0 to 149999\n",
      "Data columns (total 27 columns):\n",
      "SeriousDlqin2yrs                        150000 non-null int64\n",
      "RevolvingUtilizationOfUnsecuredLines    150000 non-null float64\n",
      "DebtRatio                               150000 non-null float64\n",
      "MonthlyIncome                           150000 non-null float64\n",
      "NumberOfOpenCreditLinesAndLoans         150000 non-null int64\n",
      "NumberOfTimes90DaysLate                 150000 non-null int64\n",
      "NumberRealEstateLoansOrLines            150000 non-null int64\n",
      "age_1                                   150000 non-null uint8\n",
      "age_2                                   150000 non-null uint8\n",
      "age_3                                   150000 non-null uint8\n",
      "age_4                                   150000 non-null uint8\n",
      "age_5                                   150000 non-null uint8\n",
      "age_6                                   150000 non-null uint8\n",
      "age_7                                   150000 non-null uint8\n",
      "dep_1                                   150000 non-null uint8\n",
      "dep_2                                   150000 non-null uint8\n",
      "dep_3                                   150000 non-null uint8\n",
      "dep_4                                   150000 non-null uint8\n",
      "dep_5                                   150000 non-null uint8\n",
      "30_59_1                                 150000 non-null uint8\n",
      "30_59_2                                 150000 non-null uint8\n",
      "30_59_3                                 150000 non-null uint8\n",
      "30_59_4                                 150000 non-null uint8\n",
      "60_1                                    150000 non-null uint8\n",
      "60_2                                    150000 non-null uint8\n",
      "60_3                                    150000 non-null uint8\n",
      "60_4                                    150000 non-null uint8\n",
      "dtypes: float64(3), int64(4), uint8(20)\n",
      "memory usage: 10.9 MB\n"
     ]
    }
   ],
   "source": [
    "data.info()"
   ]
  },
  {
   "cell_type": "markdown",
   "metadata": {},
   "source": [
    "# 90 days or late"
   ]
  },
  {
   "cell_type": "code",
   "execution_count": 122,
   "metadata": {},
   "outputs": [
    {
     "data": {
      "text/plain": [
       "<function matplotlib.pyplot.show>"
      ]
     },
     "execution_count": 122,
     "metadata": {},
     "output_type": "execute_result"
    },
    {
     "data": {
      "image/png": "[encoded data removed]",
      "text/plain": [
       "<matplotlib.figure.Figure at 0xc129a58>"
      ]
     },
     "metadata": {},
     "output_type": "display_data"
    }
   ],
   "source": [
    "plt.hist(data['NumberOfTimes90DaysLate'],bins=[0,1,2,3,4,5])\n",
    "plt.show"
   ]
  },
  {
   "cell_type": "code",
   "execution_count": 123,
   "metadata": {},
   "outputs": [
    {
     "name": "stdout",
     "output_type": "stream",
     "text": [
      "(141662, 27)\n",
      "(6554, 27)\n"
     ]
    }
   ],
   "source": [
    "print(data[data['NumberOfTimes90DaysLate']==0].shape)\n",
    "print(data[(data['NumberOfTimes90DaysLate']==0)&(data['SeriousDlqin2yrs']==1)].shape)"
   ]
  },
  {
   "cell_type": "code",
   "execution_count": 124,
   "metadata": {},
   "outputs": [
    {
     "name": "stdout",
     "output_type": "stream",
     "text": [
      "(5243, 27)\n",
      "(1765, 27)\n"
     ]
    }
   ],
   "source": [
    "print(data[data['NumberOfTimes90DaysLate']==1].shape)\n",
    "print(data[(data['NumberOfTimes90DaysLate']==1)&(data['SeriousDlqin2yrs']==1)].shape)"
   ]
  },
  {
   "cell_type": "code",
   "execution_count": 125,
   "metadata": {},
   "outputs": [
    {
     "name": "stdout",
     "output_type": "stream",
     "text": [
      "(1555, 27)\n",
      "(776, 27)\n"
     ]
    }
   ],
   "source": [
    "print(data[data['NumberOfTimes90DaysLate']==2].shape)\n",
    "print(data[(data['NumberOfTimes90DaysLate']==2)&(data['SeriousDlqin2yrs']==1)].shape)"
   ]
  },
  {
   "cell_type": "code",
   "execution_count": 126,
   "metadata": {},
   "outputs": [
    {
     "name": "stdout",
     "output_type": "stream",
     "text": [
      "(667, 27)\n",
      "(385, 27)\n"
     ]
    }
   ],
   "source": [
    "print(data[data['NumberOfTimes90DaysLate']==3].shape)\n",
    "print(data[(data['NumberOfTimes90DaysLate']==3)&(data['SeriousDlqin2yrs']==1)].shape)"
   ]
  },
  {
   "cell_type": "code",
   "execution_count": 127,
   "metadata": {},
   "outputs": [
    {
     "name": "stdout",
     "output_type": "stream",
     "text": [
      "(291, 27)\n",
      "(195, 27)\n"
     ]
    }
   ],
   "source": [
    "print(data[data['NumberOfTimes90DaysLate']==4].shape)\n",
    "print(data[(data['NumberOfTimes90DaysLate']==4)&(data['SeriousDlqin2yrs']==1)].shape)"
   ]
  },
  {
   "cell_type": "code",
   "execution_count": 128,
   "metadata": {},
   "outputs": [
    {
     "name": "stdout",
     "output_type": "stream",
     "text": [
      "(131, 27)\n",
      "(83, 27)\n"
     ]
    }
   ],
   "source": [
    "print(data[data['NumberOfTimes90DaysLate']==5].shape)\n",
    "print(data[(data['NumberOfTimes90DaysLate']==5)&(data['SeriousDlqin2yrs']==1)].shape)"
   ]
  },
  {
   "cell_type": "code",
   "execution_count": 129,
   "metadata": {},
   "outputs": [
    {
     "name": "stdout",
     "output_type": "stream",
     "text": [
      "(873, 27)\n",
      "(546, 27)\n"
     ]
    }
   ],
   "source": [
    "print(data[data['NumberOfTimes90DaysLate']>=4].shape)\n",
    "print(data[(data['NumberOfTimes90DaysLate']>=4)&(data['SeriousDlqin2yrs']==1)].shape)"
   ]
  },
  {
   "cell_type": "code",
   "execution_count": 130,
   "metadata": {
    "collapsed": true
   },
   "outputs": [],
   "source": [
    "bins = np.array([-1,0,1,2,3,4,1000])"
   ]
  },
  {
   "cell_type": "code",
   "execution_count": 131,
   "metadata": {
    "collapsed": true
   },
   "outputs": [],
   "source": [
    "inds = np.digitize(data['NumberOfTimes90DaysLate'],bins,right=True)"
   ]
  },
  {
   "cell_type": "code",
   "execution_count": 132,
   "metadata": {
    "collapsed": true
   },
   "outputs": [],
   "source": [
    "data['90_bins']=inds"
   ]
  },
  {
   "cell_type": "code",
   "execution_count": 133,
   "metadata": {
    "collapsed": true
   },
   "outputs": [],
   "source": [
    "data_with_dummies_90 = pd.get_dummies(data['90_bins'], prefix= '90')"
   ]
  },
  {
   "cell_type": "code",
   "execution_count": 134,
   "metadata": {},
   "outputs": [
    {
     "name": "stdout",
     "output_type": "stream",
     "text": [
      "<class 'pandas.core.frame.DataFrame'>\n",
      "RangeIndex: 150000 entries, 0 to 149999\n",
      "Data columns (total 6 columns):\n",
      "90_1    150000 non-null uint8\n",
      "90_2    150000 non-null uint8\n",
      "90_3    150000 non-null uint8\n",
      "90_4    150000 non-null uint8\n",
      "90_5    150000 non-null uint8\n",
      "90_6    150000 non-null uint8\n",
      "dtypes: uint8(6)\n",
      "memory usage: 879.0 KB\n"
     ]
    }
   ],
   "source": [
    "data_with_dummies_90.info()"
   ]
  },
  {
   "cell_type": "code",
   "execution_count": 135,
   "metadata": {
    "collapsed": true
   },
   "outputs": [],
   "source": [
    "del data_with_dummies_90['90_6']"
   ]
  },
  {
   "cell_type": "code",
   "execution_count": 136,
   "metadata": {
    "collapsed": true
   },
   "outputs": [],
   "source": [
    "#x=data['NumberOfTimes90DaysLate']"
   ]
  },
  {
   "cell_type": "code",
   "execution_count": 137,
   "metadata": {
    "collapsed": true
   },
   "outputs": [],
   "source": [
    "#for n in range(x.size):\n",
    "    #print(bins[inds[n]-1], \"<=\", x[n], \"<\", bins[inds[n]])"
   ]
  },
  {
   "cell_type": "code",
   "execution_count": 138,
   "metadata": {
    "collapsed": true
   },
   "outputs": [],
   "source": [
    "data['90_1']=data_with_dummies_90['90_1']"
   ]
  },
  {
   "cell_type": "code",
   "execution_count": 139,
   "metadata": {
    "collapsed": true
   },
   "outputs": [],
   "source": [
    "data['90_2']=data_with_dummies_90['90_2']"
   ]
  },
  {
   "cell_type": "code",
   "execution_count": 140,
   "metadata": {
    "collapsed": true
   },
   "outputs": [],
   "source": [
    "data['90_3']=data_with_dummies_90['90_3']"
   ]
  },
  {
   "cell_type": "code",
   "execution_count": 141,
   "metadata": {
    "collapsed": true
   },
   "outputs": [],
   "source": [
    "data['90_4']=data_with_dummies_90['90_4']"
   ]
  },
  {
   "cell_type": "code",
   "execution_count": 142,
   "metadata": {
    "collapsed": true
   },
   "outputs": [],
   "source": [
    "data['90_5']=data_with_dummies_90['90_5']"
   ]
  },
  {
   "cell_type": "code",
   "execution_count": 143,
   "metadata": {
    "collapsed": true
   },
   "outputs": [],
   "source": [
    "#data['90_6']=data_with_dummies_90['90_6']"
   ]
  },
  {
   "cell_type": "code",
   "execution_count": 144,
   "metadata": {
    "collapsed": true
   },
   "outputs": [],
   "source": [
    "#data['90_7']=data_with_dummies_90['90_7']"
   ]
  },
  {
   "cell_type": "code",
   "execution_count": 145,
   "metadata": {
    "collapsed": true
   },
   "outputs": [],
   "source": [
    "del data['90_bins']"
   ]
  },
  {
   "cell_type": "code",
   "execution_count": 146,
   "metadata": {
    "collapsed": true
   },
   "outputs": [],
   "source": [
    "del data['NumberOfTimes90DaysLate']"
   ]
  },
  {
   "cell_type": "code",
   "execution_count": 147,
   "metadata": {},
   "outputs": [
    {
     "name": "stdout",
     "output_type": "stream",
     "text": [
      "<class 'pandas.core.frame.DataFrame'>\n",
      "RangeIndex: 150000 entries, 0 to 149999\n",
      "Data columns (total 31 columns):\n",
      "SeriousDlqin2yrs                        150000 non-null int64\n",
      "RevolvingUtilizationOfUnsecuredLines    150000 non-null float64\n",
      "DebtRatio                               150000 non-null float64\n",
      "MonthlyIncome                           150000 non-null float64\n",
      "NumberOfOpenCreditLinesAndLoans         150000 non-null int64\n",
      "NumberRealEstateLoansOrLines            150000 non-null int64\n",
      "age_1                                   150000 non-null uint8\n",
      "age_2                                   150000 non-null uint8\n",
      "age_3                                   150000 non-null uint8\n",
      "age_4                                   150000 non-null uint8\n",
      "age_5                                   150000 non-null uint8\n",
      "age_6                                   150000 non-null uint8\n",
      "age_7                                   150000 non-null uint8\n",
      "dep_1                                   150000 non-null uint8\n",
      "dep_2                                   150000 non-null uint8\n",
      "dep_3                                   150000 non-null uint8\n",
      "dep_4                                   150000 non-null uint8\n",
      "dep_5                                   150000 non-null uint8\n",
      "30_59_1                                 150000 non-null uint8\n",
      "30_59_2                                 150000 non-null uint8\n",
      "30_59_3                                 150000 non-null uint8\n",
      "30_59_4                                 150000 non-null uint8\n",
      "60_1                                    150000 non-null uint8\n",
      "60_2                                    150000 non-null uint8\n",
      "60_3                                    150000 non-null uint8\n",
      "60_4                                    150000 non-null uint8\n",
      "90_1                                    150000 non-null uint8\n",
      "90_2                                    150000 non-null uint8\n",
      "90_3                                    150000 non-null uint8\n",
      "90_4                                    150000 non-null uint8\n",
      "90_5                                    150000 non-null uint8\n",
      "dtypes: float64(3), int64(3), uint8(25)\n",
      "memory usage: 10.4 MB\n"
     ]
    }
   ],
   "source": [
    "data.info()"
   ]
  },
  {
   "cell_type": "markdown",
   "metadata": {},
   "source": [
    "# Number of credit lines"
   ]
  },
  {
   "cell_type": "code",
   "execution_count": 148,
   "metadata": {},
   "outputs": [
    {
     "data": {
      "text/plain": [
       "<function matplotlib.pyplot.show>"
      ]
     },
     "execution_count": 148,
     "metadata": {},
     "output_type": "execute_result"
    },
    {
     "data": {
      "image/png": "[encoded data removed]",
      "text/plain": [
       "<matplotlib.figure.Figure at 0xb97fac8>"
      ]
     },
     "metadata": {},
     "output_type": "display_data"
    }
   ],
   "source": [
    "plt.hist(data['NumberOfOpenCreditLinesAndLoans'],bins=[0,5,10,15,20,60])\n",
    "plt.show"
   ]
  },
  {
   "cell_type": "code",
   "execution_count": 149,
   "metadata": {},
   "outputs": [
    {
     "name": "stdout",
     "output_type": "stream",
     "text": [
      "(46590, 31)\n",
      "(3922, 31)\n"
     ]
    }
   ],
   "source": [
    "print(data[data['NumberOfOpenCreditLinesAndLoans']<=5].shape)\n",
    "print(data[(data['NumberOfOpenCreditLinesAndLoans']<=5)&(data['SeriousDlqin2yrs']==1)].shape)"
   ]
  },
  {
   "cell_type": "code",
   "execution_count": 150,
   "metadata": {},
   "outputs": [
    {
     "name": "stdout",
     "output_type": "stream",
     "text": [
      "(60400, 31)\n",
      "(3345, 31)\n"
     ]
    }
   ],
   "source": [
    "print(data[(data['NumberOfOpenCreditLinesAndLoans']>5)&(data['NumberOfOpenCreditLinesAndLoans']<=10)].shape)\n",
    "print(data[(data['NumberOfOpenCreditLinesAndLoans']>5)&(data['NumberOfOpenCreditLinesAndLoans']<=10)&(data['SeriousDlqin2yrs']==1)].shape)"
   ]
  },
  {
   "cell_type": "code",
   "execution_count": 151,
   "metadata": {},
   "outputs": [
    {
     "name": "stdout",
     "output_type": "stream",
     "text": [
      "(29184, 31)\n",
      "(1804, 31)\n"
     ]
    }
   ],
   "source": [
    "print(data[(data['NumberOfOpenCreditLinesAndLoans']>10)&(data['NumberOfOpenCreditLinesAndLoans']<=15)].shape)\n",
    "print(data[(data['NumberOfOpenCreditLinesAndLoans']>10)&(data['NumberOfOpenCreditLinesAndLoans']<=15)&(data['SeriousDlqin2yrs']==1)].shape)"
   ]
  },
  {
   "cell_type": "code",
   "execution_count": 152,
   "metadata": {},
   "outputs": [
    {
     "name": "stdout",
     "output_type": "stream",
     "text": [
      "(9846, 31)\n",
      "(676, 31)\n"
     ]
    }
   ],
   "source": [
    "print(data[(data['NumberOfOpenCreditLinesAndLoans']>15)&(data['NumberOfOpenCreditLinesAndLoans']<=20)].shape)\n",
    "print(data[(data['NumberOfOpenCreditLinesAndLoans']>15)&(data['NumberOfOpenCreditLinesAndLoans']<=20)&(data['SeriousDlqin2yrs']==1)].shape)"
   ]
  },
  {
   "cell_type": "code",
   "execution_count": 153,
   "metadata": {},
   "outputs": [
    {
     "name": "stdout",
     "output_type": "stream",
     "text": [
      "(3980, 31)\n",
      "(279, 31)\n"
     ]
    }
   ],
   "source": [
    "print(data[data['NumberOfOpenCreditLinesAndLoans']>20].shape)\n",
    "print(data[(data['NumberOfOpenCreditLinesAndLoans']>20)&(data['SeriousDlqin2yrs']==1)].shape)"
   ]
  },
  {
   "cell_type": "code",
   "execution_count": 154,
   "metadata": {
    "collapsed": true
   },
   "outputs": [],
   "source": [
    "bins = np.array([-1,5,10,15,20,100])"
   ]
  },
  {
   "cell_type": "code",
   "execution_count": 155,
   "metadata": {
    "collapsed": true
   },
   "outputs": [],
   "source": [
    "inds = np.digitize(data['NumberOfOpenCreditLinesAndLoans'],bins,right=True)"
   ]
  },
  {
   "cell_type": "code",
   "execution_count": 156,
   "metadata": {
    "collapsed": true
   },
   "outputs": [],
   "source": [
    "data['cl_bins']=inds"
   ]
  },
  {
   "cell_type": "code",
   "execution_count": 157,
   "metadata": {
    "collapsed": true
   },
   "outputs": [],
   "source": [
    "data_with_dummies_cl = pd.get_dummies(data['cl_bins'], prefix= 'cl')"
   ]
  },
  {
   "cell_type": "code",
   "execution_count": 158,
   "metadata": {},
   "outputs": [
    {
     "name": "stdout",
     "output_type": "stream",
     "text": [
      "<class 'pandas.core.frame.DataFrame'>\n",
      "RangeIndex: 150000 entries, 0 to 149999\n",
      "Data columns (total 5 columns):\n",
      "cl_1    150000 non-null uint8\n",
      "cl_2    150000 non-null uint8\n",
      "cl_3    150000 non-null uint8\n",
      "cl_4    150000 non-null uint8\n",
      "cl_5    150000 non-null uint8\n",
      "dtypes: uint8(5)\n",
      "memory usage: 732.5 KB\n"
     ]
    }
   ],
   "source": [
    "data_with_dummies_cl.info()"
   ]
  },
  {
   "cell_type": "code",
   "execution_count": 159,
   "metadata": {
    "collapsed": true
   },
   "outputs": [],
   "source": [
    "del data_with_dummies_cl['cl_5']"
   ]
  },
  {
   "cell_type": "code",
   "execution_count": 160,
   "metadata": {
    "collapsed": true
   },
   "outputs": [],
   "source": [
    "#data_with_dummies_cl.info()"
   ]
  },
  {
   "cell_type": "code",
   "execution_count": 161,
   "metadata": {
    "collapsed": true
   },
   "outputs": [],
   "source": [
    "#data['cl_0']=data_with_dummies_cl['cl_0']"
   ]
  },
  {
   "cell_type": "code",
   "execution_count": 162,
   "metadata": {
    "collapsed": true
   },
   "outputs": [],
   "source": [
    "data['cl_1']=data_with_dummies_cl['cl_1']"
   ]
  },
  {
   "cell_type": "code",
   "execution_count": 163,
   "metadata": {
    "collapsed": true
   },
   "outputs": [],
   "source": [
    "data['cl_2']=data_with_dummies_cl['cl_2']"
   ]
  },
  {
   "cell_type": "code",
   "execution_count": 164,
   "metadata": {
    "collapsed": true
   },
   "outputs": [],
   "source": [
    "data['cl_3']=data_with_dummies_cl['cl_3']"
   ]
  },
  {
   "cell_type": "code",
   "execution_count": 165,
   "metadata": {
    "collapsed": true
   },
   "outputs": [],
   "source": [
    "data['cl_4']=data_with_dummies_cl['cl_4']"
   ]
  },
  {
   "cell_type": "code",
   "execution_count": 166,
   "metadata": {
    "collapsed": true
   },
   "outputs": [],
   "source": [
    "#data['cl_5']=data_with_dummies_cl['cl_5']"
   ]
  },
  {
   "cell_type": "code",
   "execution_count": 167,
   "metadata": {
    "collapsed": true
   },
   "outputs": [],
   "source": [
    "#data['cl_6']=data_with_dummies_cl['cl_6']"
   ]
  },
  {
   "cell_type": "code",
   "execution_count": 168,
   "metadata": {
    "collapsed": true
   },
   "outputs": [],
   "source": [
    "#data.info()"
   ]
  },
  {
   "cell_type": "code",
   "execution_count": 169,
   "metadata": {
    "collapsed": true
   },
   "outputs": [],
   "source": [
    "del data['cl_bins']"
   ]
  },
  {
   "cell_type": "code",
   "execution_count": 170,
   "metadata": {
    "collapsed": true
   },
   "outputs": [],
   "source": [
    "del data['NumberOfOpenCreditLinesAndLoans']"
   ]
  },
  {
   "cell_type": "markdown",
   "metadata": {},
   "source": [
    "# Real estate lines"
   ]
  },
  {
   "cell_type": "code",
   "execution_count": 171,
   "metadata": {},
   "outputs": [
    {
     "data": {
      "text/plain": [
       "<function matplotlib.pyplot.show>"
      ]
     },
     "execution_count": 171,
     "metadata": {},
     "output_type": "execute_result"
    },
    {
     "data": {
      "image/png": "[encoded data removed]",
      "text/plain": [
       "<matplotlib.figure.Figure at 0xa691518>"
      ]
     },
     "metadata": {},
     "output_type": "display_data"
    }
   ],
   "source": [
    "plt.hist(data['NumberRealEstateLoansOrLines'],bins=[0,1,2,3,4])\n",
    "plt.show"
   ]
  },
  {
   "cell_type": "code",
   "execution_count": 172,
   "metadata": {},
   "outputs": [
    {
     "name": "stdout",
     "output_type": "stream",
     "text": [
      "(56188, 34)\n",
      "(4672, 34)\n"
     ]
    }
   ],
   "source": [
    "print(data[data['NumberRealEstateLoansOrLines']==0].shape)\n",
    "print(data[(data['NumberRealEstateLoansOrLines']==0)&(data['SeriousDlqin2yrs']==1)].shape)\n"
   ]
  },
  {
   "cell_type": "code",
   "execution_count": 173,
   "metadata": {},
   "outputs": [
    {
     "name": "stdout",
     "output_type": "stream",
     "text": [
      "(52338, 34)\n",
      "(2748, 34)\n"
     ]
    }
   ],
   "source": [
    "print(data[data['NumberRealEstateLoansOrLines']==1].shape)\n",
    "print(data[(data['NumberRealEstateLoansOrLines']==1)&(data['SeriousDlqin2yrs']==1)].shape)\n"
   ]
  },
  {
   "cell_type": "code",
   "execution_count": 174,
   "metadata": {},
   "outputs": [
    {
     "name": "stdout",
     "output_type": "stream",
     "text": [
      "(31522, 34)\n",
      "(1765, 34)\n"
     ]
    }
   ],
   "source": [
    "print(data[data['NumberRealEstateLoansOrLines']==2].shape)\n",
    "print(data[(data['NumberRealEstateLoansOrLines']==2)&(data['SeriousDlqin2yrs']==1)].shape)\n"
   ]
  },
  {
   "cell_type": "code",
   "execution_count": 175,
   "metadata": {},
   "outputs": [
    {
     "name": "stdout",
     "output_type": "stream",
     "text": [
      "(6300, 34)\n",
      "(422, 34)\n"
     ]
    }
   ],
   "source": [
    "print(data[data['NumberRealEstateLoansOrLines']==3].shape)\n",
    "print(data[(data['NumberRealEstateLoansOrLines']==3)&(data['SeriousDlqin2yrs']==1)].shape)\n"
   ]
  },
  {
   "cell_type": "code",
   "execution_count": 176,
   "metadata": {},
   "outputs": [
    {
     "name": "stdout",
     "output_type": "stream",
     "text": [
      "(3652, 34)\n",
      "(419, 34)\n"
     ]
    }
   ],
   "source": [
    "print(data[data['NumberRealEstateLoansOrLines']>=4].shape)\n",
    "print(data[(data['NumberRealEstateLoansOrLines']>=4)&(data['SeriousDlqin2yrs']==1)].shape)"
   ]
  },
  {
   "cell_type": "code",
   "execution_count": 177,
   "metadata": {
    "collapsed": true
   },
   "outputs": [],
   "source": [
    "bins = np.array([-1,0,1,2,100])"
   ]
  },
  {
   "cell_type": "code",
   "execution_count": 178,
   "metadata": {
    "collapsed": true
   },
   "outputs": [],
   "source": [
    "inds = np.digitize(data['NumberRealEstateLoansOrLines'],bins,right=True)"
   ]
  },
  {
   "cell_type": "code",
   "execution_count": 179,
   "metadata": {
    "collapsed": true
   },
   "outputs": [],
   "source": [
    "data['re_bins']=inds"
   ]
  },
  {
   "cell_type": "code",
   "execution_count": 180,
   "metadata": {
    "collapsed": true
   },
   "outputs": [],
   "source": [
    "data_with_dummies_re = pd.get_dummies(data['re_bins'], prefix= 're')"
   ]
  },
  {
   "cell_type": "code",
   "execution_count": 181,
   "metadata": {},
   "outputs": [
    {
     "name": "stdout",
     "output_type": "stream",
     "text": [
      "<class 'pandas.core.frame.DataFrame'>\n",
      "RangeIndex: 150000 entries, 0 to 149999\n",
      "Data columns (total 4 columns):\n",
      "re_1    150000 non-null uint8\n",
      "re_2    150000 non-null uint8\n",
      "re_3    150000 non-null uint8\n",
      "re_4    150000 non-null uint8\n",
      "dtypes: uint8(4)\n",
      "memory usage: 586.0 KB\n"
     ]
    }
   ],
   "source": [
    "data_with_dummies_re.info()"
   ]
  },
  {
   "cell_type": "code",
   "execution_count": 182,
   "metadata": {
    "collapsed": true
   },
   "outputs": [],
   "source": [
    "del data_with_dummies_re['re_4']"
   ]
  },
  {
   "cell_type": "code",
   "execution_count": 183,
   "metadata": {
    "collapsed": true
   },
   "outputs": [],
   "source": [
    "#data_with_dummies_re.info()"
   ]
  },
  {
   "cell_type": "code",
   "execution_count": 184,
   "metadata": {
    "collapsed": true
   },
   "outputs": [],
   "source": [
    "data['re_1']=data_with_dummies_re['re_1']"
   ]
  },
  {
   "cell_type": "code",
   "execution_count": 185,
   "metadata": {
    "collapsed": true
   },
   "outputs": [],
   "source": [
    "data['re_2']=data_with_dummies_re['re_2']"
   ]
  },
  {
   "cell_type": "code",
   "execution_count": 186,
   "metadata": {
    "collapsed": true
   },
   "outputs": [],
   "source": [
    "data['re_3']=data_with_dummies_re['re_3']"
   ]
  },
  {
   "cell_type": "code",
   "execution_count": 187,
   "metadata": {
    "collapsed": true
   },
   "outputs": [],
   "source": [
    "#data['re_4']=data_with_dummies_re['re_4']"
   ]
  },
  {
   "cell_type": "code",
   "execution_count": 188,
   "metadata": {
    "collapsed": true
   },
   "outputs": [],
   "source": [
    "#data['re_5']=data_with_dummies_re['re_5']"
   ]
  },
  {
   "cell_type": "code",
   "execution_count": 189,
   "metadata": {
    "collapsed": true
   },
   "outputs": [],
   "source": [
    "#data['re_6']=data_with_dummies_re['re_6']"
   ]
  },
  {
   "cell_type": "code",
   "execution_count": 190,
   "metadata": {
    "collapsed": true
   },
   "outputs": [],
   "source": [
    "#data.info()"
   ]
  },
  {
   "cell_type": "code",
   "execution_count": 191,
   "metadata": {
    "collapsed": true
   },
   "outputs": [],
   "source": [
    "del data['re_bins']"
   ]
  },
  {
   "cell_type": "code",
   "execution_count": 192,
   "metadata": {
    "collapsed": true
   },
   "outputs": [],
   "source": [
    "del data['NumberRealEstateLoansOrLines']"
   ]
  },
  {
   "cell_type": "code",
   "execution_count": 193,
   "metadata": {
    "collapsed": true
   },
   "outputs": [],
   "source": [
    "#data.info()"
   ]
  },
  {
   "cell_type": "markdown",
   "metadata": {},
   "source": [
    "### Imputing missing values in Income column with mean of Age Bins "
   ]
  },
  {
   "cell_type": "code",
   "execution_count": 196,
   "metadata": {},
   "outputs": [
    {
     "data": {
      "text/plain": [
       "2712.8346346904627"
      ]
     },
     "execution_count": 196,
     "metadata": {},
     "output_type": "execute_result"
    }
   ],
   "source": [
    "np.mean(data[data['age_1']==1]['MonthlyIncome'])"
   ]
  },
  {
   "cell_type": "code",
   "execution_count": 197,
   "metadata": {
    "collapsed": true
   },
   "outputs": [],
   "source": [
    "data.loc[(data['age_1']==1)&(data['MonthlyIncome']==-1),'MonthlyIncome']=np.mean(data[data['age_1']==1]['MonthlyIncome'])"
   ]
  },
  {
   "cell_type": "code",
   "execution_count": 198,
   "metadata": {},
   "outputs": [
    {
     "data": {
      "text/plain": [
       "3142.9413508224397"
      ]
     },
     "execution_count": 198,
     "metadata": {},
     "output_type": "execute_result"
    }
   ],
   "source": [
    "np.mean(data[data['age_1']==1]['MonthlyIncome'])"
   ]
  },
  {
   "cell_type": "code",
   "execution_count": 199,
   "metadata": {},
   "outputs": [
    {
     "data": {
      "text/plain": [
       "4960.327868852459"
      ]
     },
     "execution_count": 199,
     "metadata": {},
     "output_type": "execute_result"
    }
   ],
   "source": [
    "np.mean(data[data['age_2']==1]['MonthlyIncome'])"
   ]
  },
  {
   "cell_type": "code",
   "execution_count": 200,
   "metadata": {
    "collapsed": true
   },
   "outputs": [],
   "source": [
    "data.loc[(data['age_2']==1)&(data['MonthlyIncome']==-1),'MonthlyIncome']=np.mean(data[data['age_2']==1]['MonthlyIncome'])"
   ]
  },
  {
   "cell_type": "code",
   "execution_count": 201,
   "metadata": {},
   "outputs": [
    {
     "data": {
      "text/plain": [
       "5634.639573941235"
      ]
     },
     "execution_count": 201,
     "metadata": {},
     "output_type": "execute_result"
    }
   ],
   "source": [
    "np.mean(data[data['age_2']==1]['MonthlyIncome'])"
   ]
  },
  {
   "cell_type": "code",
   "execution_count": 202,
   "metadata": {},
   "outputs": [
    {
     "data": {
      "text/plain": [
       "6200.028940833976"
      ]
     },
     "execution_count": 202,
     "metadata": {},
     "output_type": "execute_result"
    }
   ],
   "source": [
    "np.mean(data[data['age_3']==1]['MonthlyIncome'])"
   ]
  },
  {
   "cell_type": "code",
   "execution_count": 203,
   "metadata": {
    "collapsed": true
   },
   "outputs": [],
   "source": [
    "data.loc[(data['age_3']==1)&(data['MonthlyIncome']==-1),'MonthlyIncome']=np.mean(data[data['age_3']==1]['MonthlyIncome'])"
   ]
  },
  {
   "cell_type": "code",
   "execution_count": 204,
   "metadata": {},
   "outputs": [
    {
     "data": {
      "text/plain": [
       "7167.7837785327365"
      ]
     },
     "execution_count": 204,
     "metadata": {},
     "output_type": "execute_result"
    }
   ],
   "source": [
    "np.mean(data[data['age_3']==1]['MonthlyIncome'])"
   ]
  },
  {
   "cell_type": "code",
   "execution_count": 205,
   "metadata": {},
   "outputs": [
    {
     "data": {
      "text/plain": [
       "6214.922340975694"
      ]
     },
     "execution_count": 205,
     "metadata": {},
     "output_type": "execute_result"
    }
   ],
   "source": [
    "np.mean(data[data['age_4']==1]['MonthlyIncome'])"
   ]
  },
  {
   "cell_type": "code",
   "execution_count": 206,
   "metadata": {
    "collapsed": true
   },
   "outputs": [],
   "source": [
    "data.loc[(data['age_4']==1)&(data['MonthlyIncome']==-1),'MonthlyIncome']=np.mean(data[data['age_4']==1]['MonthlyIncome'])"
   ]
  },
  {
   "cell_type": "code",
   "execution_count": 207,
   "metadata": {},
   "outputs": [
    {
     "data": {
      "text/plain": [
       "7447.891594614079"
      ]
     },
     "execution_count": 207,
     "metadata": {},
     "output_type": "execute_result"
    }
   ],
   "source": [
    "np.mean(data[data['age_4']==1]['MonthlyIncome'])"
   ]
  },
  {
   "cell_type": "code",
   "execution_count": 208,
   "metadata": {},
   "outputs": [
    {
     "data": {
      "text/plain": [
       "5491.026254375729"
      ]
     },
     "execution_count": 208,
     "metadata": {},
     "output_type": "execute_result"
    }
   ],
   "source": [
    "np.mean(data[data['age_5']==1]['MonthlyIncome'])"
   ]
  },
  {
   "cell_type": "code",
   "execution_count": 209,
   "metadata": {
    "collapsed": true
   },
   "outputs": [],
   "source": [
    "data.loc[(data['age_5']==1)&(data['MonthlyIncome']==-1),'MonthlyIncome']=np.mean(data[data['age_5']==1]['MonthlyIncome'])"
   ]
  },
  {
   "cell_type": "code",
   "execution_count": 210,
   "metadata": {},
   "outputs": [
    {
     "data": {
      "text/plain": [
       "6882.657323573009"
      ]
     },
     "execution_count": 210,
     "metadata": {},
     "output_type": "execute_result"
    }
   ],
   "source": [
    "np.mean(data[data['age_5']==1]['MonthlyIncome'])"
   ]
  },
  {
   "cell_type": "code",
   "execution_count": 211,
   "metadata": {},
   "outputs": [
    {
     "data": {
      "text/plain": [
       "4055.2067716535435"
      ]
     },
     "execution_count": 211,
     "metadata": {},
     "output_type": "execute_result"
    }
   ],
   "source": [
    "np.mean(data[data['age_6']==1]['MonthlyIncome'])"
   ]
  },
  {
   "cell_type": "code",
   "execution_count": 212,
   "metadata": {
    "collapsed": true
   },
   "outputs": [],
   "source": [
    "data.loc[(data['age_6']==1)&(data['MonthlyIncome']==-1),'MonthlyIncome']=np.mean(data[data['age_6']==1]['MonthlyIncome'])"
   ]
  },
  {
   "cell_type": "code",
   "execution_count": 213,
   "metadata": {},
   "outputs": [
    {
     "data": {
      "text/plain": [
       "5195.096690396592"
      ]
     },
     "execution_count": 213,
     "metadata": {},
     "output_type": "execute_result"
    }
   ],
   "source": [
    "np.mean(data[data['age_6']==1]['MonthlyIncome'])"
   ]
  },
  {
   "cell_type": "code",
   "execution_count": 214,
   "metadata": {},
   "outputs": [
    {
     "data": {
      "text/plain": [
       "3404.3764335507085"
      ]
     },
     "execution_count": 214,
     "metadata": {},
     "output_type": "execute_result"
    }
   ],
   "source": [
    "np.mean(data[data['age_7']==1]['MonthlyIncome'])"
   ]
  },
  {
   "cell_type": "code",
   "execution_count": 215,
   "metadata": {
    "collapsed": true
   },
   "outputs": [],
   "source": [
    "data.loc[(data['age_7']==1)&(data['MonthlyIncome']==-1),'MonthlyIncome']=np.mean(data[data['age_7']==1]['MonthlyIncome'])"
   ]
  },
  {
   "cell_type": "code",
   "execution_count": 216,
   "metadata": {},
   "outputs": [
    {
     "data": {
      "text/plain": [
       "4625.012825518401"
      ]
     },
     "execution_count": 216,
     "metadata": {},
     "output_type": "execute_result"
    }
   ],
   "source": [
    "np.mean(data[data['age_7']==1]['MonthlyIncome'])"
   ]
  },
  {
   "cell_type": "code",
   "execution_count": 218,
   "metadata": {
    "collapsed": true
   },
   "outputs": [],
   "source": [
    "data.loc[(data['age_1']==0)&(data['age_2']==0)&(data['age_3']==0)&(data['age_4']==0)&(data['age_5']==0)&(data['age_6']==0)&(data['age_7']==0)&(data['MonthlyIncome']==-1),'MonthlyIncome']=np.mean(data[(data['age_1']==0)&(data['age_2']==0)&(data['age_3']==0)&(data['age_4']==0)&(data['age_5']==0)&(data['age_6']==0)&(data['age_7']==0)]['MonthlyIncome'])"
   ]
  },
  {
   "cell_type": "code",
   "execution_count": 219,
   "metadata": {},
   "outputs": [
    {
     "data": {
      "text/html": [
       "<div>\n",
       "<style>\n",
       "    .dataframe thead tr:only-child th {\n",
       "        text-align: right;\n",
       "    }\n",
       "\n",
       "    .dataframe thead th {\n",
       "        text-align: left;\n",
       "    }\n",
       "\n",
       "    .dataframe tbody tr th {\n",
       "        vertical-align: top;\n",
       "    }\n",
       "</style>\n",
       "<table border=\"1\" class=\"dataframe\">\n",
       "  <thead>\n",
       "    <tr style=\"text-align: right;\">\n",
       "      <th></th>\n",
       "      <th>SeriousDlqin2yrs</th>\n",
       "      <th>RevolvingUtilizationOfUnsecuredLines</th>\n",
       "      <th>DebtRatio</th>\n",
       "      <th>MonthlyIncome</th>\n",
       "      <th>age_1</th>\n",
       "      <th>age_2</th>\n",
       "      <th>age_3</th>\n",
       "      <th>age_4</th>\n",
       "      <th>age_5</th>\n",
       "      <th>age_6</th>\n",
       "      <th>...</th>\n",
       "      <th>90_3</th>\n",
       "      <th>90_4</th>\n",
       "      <th>90_5</th>\n",
       "      <th>cl_1</th>\n",
       "      <th>cl_2</th>\n",
       "      <th>cl_3</th>\n",
       "      <th>cl_4</th>\n",
       "      <th>re_1</th>\n",
       "      <th>re_2</th>\n",
       "      <th>re_3</th>\n",
       "    </tr>\n",
       "  </thead>\n",
       "  <tbody>\n",
       "    <tr>\n",
       "      <th>count</th>\n",
       "      <td>150000.000000</td>\n",
       "      <td>150000.000000</td>\n",
       "      <td>150000.000000</td>\n",
       "      <td>1.500000e+05</td>\n",
       "      <td>150000.000000</td>\n",
       "      <td>150000.00000</td>\n",
       "      <td>150000.000000</td>\n",
       "      <td>150000.000000</td>\n",
       "      <td>150000.000000</td>\n",
       "      <td>150000.000000</td>\n",
       "      <td>...</td>\n",
       "      <td>150000.000000</td>\n",
       "      <td>150000.000000</td>\n",
       "      <td>150000.000000</td>\n",
       "      <td>150000.000000</td>\n",
       "      <td>150000.000000</td>\n",
       "      <td>150000.000000</td>\n",
       "      <td>150000.000000</td>\n",
       "      <td>150000.000000</td>\n",
       "      <td>150000.00000</td>\n",
       "      <td>150000.000000</td>\n",
       "    </tr>\n",
       "    <tr>\n",
       "      <th>mean</th>\n",
       "      <td>0.066840</td>\n",
       "      <td>6.048438</td>\n",
       "      <td>353.005076</td>\n",
       "      <td>6.392273e+03</td>\n",
       "      <td>0.071720</td>\n",
       "      <td>0.16226</td>\n",
       "      <td>0.233580</td>\n",
       "      <td>0.232040</td>\n",
       "      <td>0.182827</td>\n",
       "      <td>0.084667</td>\n",
       "      <td>...</td>\n",
       "      <td>0.010367</td>\n",
       "      <td>0.004447</td>\n",
       "      <td>0.001940</td>\n",
       "      <td>0.310600</td>\n",
       "      <td>0.402667</td>\n",
       "      <td>0.194560</td>\n",
       "      <td>0.065640</td>\n",
       "      <td>0.374587</td>\n",
       "      <td>0.34892</td>\n",
       "      <td>0.210147</td>\n",
       "    </tr>\n",
       "    <tr>\n",
       "      <th>std</th>\n",
       "      <td>0.249746</td>\n",
       "      <td>249.755371</td>\n",
       "      <td>2037.818523</td>\n",
       "      <td>1.290153e+04</td>\n",
       "      <td>0.258025</td>\n",
       "      <td>0.36869</td>\n",
       "      <td>0.423109</td>\n",
       "      <td>0.422136</td>\n",
       "      <td>0.386526</td>\n",
       "      <td>0.278386</td>\n",
       "      <td>...</td>\n",
       "      <td>0.101288</td>\n",
       "      <td>0.066535</td>\n",
       "      <td>0.044003</td>\n",
       "      <td>0.462741</td>\n",
       "      <td>0.490436</td>\n",
       "      <td>0.395863</td>\n",
       "      <td>0.247653</td>\n",
       "      <td>0.484018</td>\n",
       "      <td>0.47663</td>\n",
       "      <td>0.407414</td>\n",
       "    </tr>\n",
       "    <tr>\n",
       "      <th>min</th>\n",
       "      <td>0.000000</td>\n",
       "      <td>0.000000</td>\n",
       "      <td>0.000000</td>\n",
       "      <td>0.000000e+00</td>\n",
       "      <td>0.000000</td>\n",
       "      <td>0.00000</td>\n",
       "      <td>0.000000</td>\n",
       "      <td>0.000000</td>\n",
       "      <td>0.000000</td>\n",
       "      <td>0.000000</td>\n",
       "      <td>...</td>\n",
       "      <td>0.000000</td>\n",
       "      <td>0.000000</td>\n",
       "      <td>0.000000</td>\n",
       "      <td>0.000000</td>\n",
       "      <td>0.000000</td>\n",
       "      <td>0.000000</td>\n",
       "      <td>0.000000</td>\n",
       "      <td>0.000000</td>\n",
       "      <td>0.00000</td>\n",
       "      <td>0.000000</td>\n",
       "    </tr>\n",
       "    <tr>\n",
       "      <th>25%</th>\n",
       "      <td>0.000000</td>\n",
       "      <td>0.029867</td>\n",
       "      <td>0.175074</td>\n",
       "      <td>3.635000e+03</td>\n",
       "      <td>0.000000</td>\n",
       "      <td>0.00000</td>\n",
       "      <td>0.000000</td>\n",
       "      <td>0.000000</td>\n",
       "      <td>0.000000</td>\n",
       "      <td>0.000000</td>\n",
       "      <td>...</td>\n",
       "      <td>0.000000</td>\n",
       "      <td>0.000000</td>\n",
       "      <td>0.000000</td>\n",
       "      <td>0.000000</td>\n",
       "      <td>0.000000</td>\n",
       "      <td>0.000000</td>\n",
       "      <td>0.000000</td>\n",
       "      <td>0.000000</td>\n",
       "      <td>0.00000</td>\n",
       "      <td>0.000000</td>\n",
       "    </tr>\n",
       "    <tr>\n",
       "      <th>50%</th>\n",
       "      <td>0.000000</td>\n",
       "      <td>0.154181</td>\n",
       "      <td>0.366508</td>\n",
       "      <td>5.491026e+03</td>\n",
       "      <td>0.000000</td>\n",
       "      <td>0.00000</td>\n",
       "      <td>0.000000</td>\n",
       "      <td>0.000000</td>\n",
       "      <td>0.000000</td>\n",
       "      <td>0.000000</td>\n",
       "      <td>...</td>\n",
       "      <td>0.000000</td>\n",
       "      <td>0.000000</td>\n",
       "      <td>0.000000</td>\n",
       "      <td>0.000000</td>\n",
       "      <td>0.000000</td>\n",
       "      <td>0.000000</td>\n",
       "      <td>0.000000</td>\n",
       "      <td>0.000000</td>\n",
       "      <td>0.00000</td>\n",
       "      <td>0.000000</td>\n",
       "    </tr>\n",
       "    <tr>\n",
       "      <th>75%</th>\n",
       "      <td>0.000000</td>\n",
       "      <td>0.559046</td>\n",
       "      <td>0.868254</td>\n",
       "      <td>7.400000e+03</td>\n",
       "      <td>0.000000</td>\n",
       "      <td>0.00000</td>\n",
       "      <td>0.000000</td>\n",
       "      <td>0.000000</td>\n",
       "      <td>0.000000</td>\n",
       "      <td>0.000000</td>\n",
       "      <td>...</td>\n",
       "      <td>0.000000</td>\n",
       "      <td>0.000000</td>\n",
       "      <td>0.000000</td>\n",
       "      <td>1.000000</td>\n",
       "      <td>1.000000</td>\n",
       "      <td>0.000000</td>\n",
       "      <td>0.000000</td>\n",
       "      <td>1.000000</td>\n",
       "      <td>1.00000</td>\n",
       "      <td>0.000000</td>\n",
       "    </tr>\n",
       "    <tr>\n",
       "      <th>max</th>\n",
       "      <td>1.000000</td>\n",
       "      <td>50708.000000</td>\n",
       "      <td>329664.000000</td>\n",
       "      <td>3.008750e+06</td>\n",
       "      <td>1.000000</td>\n",
       "      <td>1.00000</td>\n",
       "      <td>1.000000</td>\n",
       "      <td>1.000000</td>\n",
       "      <td>1.000000</td>\n",
       "      <td>1.000000</td>\n",
       "      <td>...</td>\n",
       "      <td>1.000000</td>\n",
       "      <td>1.000000</td>\n",
       "      <td>1.000000</td>\n",
       "      <td>1.000000</td>\n",
       "      <td>1.000000</td>\n",
       "      <td>1.000000</td>\n",
       "      <td>1.000000</td>\n",
       "      <td>1.000000</td>\n",
       "      <td>1.00000</td>\n",
       "      <td>1.000000</td>\n",
       "    </tr>\n",
       "  </tbody>\n",
       "</table>\n",
       "<p>8 rows × 36 columns</p>\n",
       "</div>"
      ],
      "text/plain": [
       "       SeriousDlqin2yrs  RevolvingUtilizationOfUnsecuredLines      DebtRatio  \\\n",
       "count     150000.000000                         150000.000000  150000.000000   \n",
       "mean           0.066840                              6.048438     353.005076   \n",
       "std            0.249746                            249.755371    2037.818523   \n",
       "min            0.000000                              0.000000       0.000000   \n",
       "25%            0.000000                              0.029867       0.175074   \n",
       "50%            0.000000                              0.154181       0.366508   \n",
       "75%            0.000000                              0.559046       0.868254   \n",
       "max            1.000000                          50708.000000  329664.000000   \n",
       "\n",
       "       MonthlyIncome          age_1         age_2          age_3  \\\n",
       "count   1.500000e+05  150000.000000  150000.00000  150000.000000   \n",
       "mean    6.392273e+03       0.071720       0.16226       0.233580   \n",
       "std     1.290153e+04       0.258025       0.36869       0.423109   \n",
       "min     0.000000e+00       0.000000       0.00000       0.000000   \n",
       "25%     3.635000e+03       0.000000       0.00000       0.000000   \n",
       "50%     5.491026e+03       0.000000       0.00000       0.000000   \n",
       "75%     7.400000e+03       0.000000       0.00000       0.000000   \n",
       "max     3.008750e+06       1.000000       1.00000       1.000000   \n",
       "\n",
       "               age_4          age_5          age_6      ...        \\\n",
       "count  150000.000000  150000.000000  150000.000000      ...         \n",
       "mean        0.232040       0.182827       0.084667      ...         \n",
       "std         0.422136       0.386526       0.278386      ...         \n",
       "min         0.000000       0.000000       0.000000      ...         \n",
       "25%         0.000000       0.000000       0.000000      ...         \n",
       "50%         0.000000       0.000000       0.000000      ...         \n",
       "75%         0.000000       0.000000       0.000000      ...         \n",
       "max         1.000000       1.000000       1.000000      ...         \n",
       "\n",
       "                90_3           90_4           90_5           cl_1  \\\n",
       "count  150000.000000  150000.000000  150000.000000  150000.000000   \n",
       "mean        0.010367       0.004447       0.001940       0.310600   \n",
       "std         0.101288       0.066535       0.044003       0.462741   \n",
       "min         0.000000       0.000000       0.000000       0.000000   \n",
       "25%         0.000000       0.000000       0.000000       0.000000   \n",
       "50%         0.000000       0.000000       0.000000       0.000000   \n",
       "75%         0.000000       0.000000       0.000000       1.000000   \n",
       "max         1.000000       1.000000       1.000000       1.000000   \n",
       "\n",
       "                cl_2           cl_3           cl_4           re_1  \\\n",
       "count  150000.000000  150000.000000  150000.000000  150000.000000   \n",
       "mean        0.402667       0.194560       0.065640       0.374587   \n",
       "std         0.490436       0.395863       0.247653       0.484018   \n",
       "min         0.000000       0.000000       0.000000       0.000000   \n",
       "25%         0.000000       0.000000       0.000000       0.000000   \n",
       "50%         0.000000       0.000000       0.000000       0.000000   \n",
       "75%         1.000000       0.000000       0.000000       1.000000   \n",
       "max         1.000000       1.000000       1.000000       1.000000   \n",
       "\n",
       "               re_2           re_3  \n",
       "count  150000.00000  150000.000000  \n",
       "mean        0.34892       0.210147  \n",
       "std         0.47663       0.407414  \n",
       "min         0.00000       0.000000  \n",
       "25%         0.00000       0.000000  \n",
       "50%         0.00000       0.000000  \n",
       "75%         1.00000       0.000000  \n",
       "max         1.00000       1.000000  \n",
       "\n",
       "[8 rows x 36 columns]"
      ]
     },
     "execution_count": 219,
     "metadata": {},
     "output_type": "execute_result"
    }
   ],
   "source": [
    "data.describe()"
   ]
  },
  {
   "cell_type": "markdown",
   "metadata": {},
   "source": [
    "# Debt Ratio"
   ]
  },
  {
   "cell_type": "code",
   "execution_count": 220,
   "metadata": {},
   "outputs": [
    {
     "data": {
      "text/plain": [
       "<function matplotlib.pyplot.show>"
      ]
     },
     "execution_count": 220,
     "metadata": {},
     "output_type": "execute_result"
    },
    {
     "data": {
      "image/png": "[encoded data removed]",
      "text/plain": [
       "<matplotlib.figure.Figure at 0xbfc89e8>"
      ]
     },
     "metadata": {},
     "output_type": "display_data"
    }
   ],
   "source": [
    "plt.hist(data['DebtRatio'],bins=[-0.1,0,0.5,1,100,200,300])\n",
    "plt.show"
   ]
  },
  {
   "cell_type": "code",
   "execution_count": 221,
   "metadata": {},
   "outputs": [
    {
     "name": "stdout",
     "output_type": "stream",
     "text": [
      "(52357, 36)\n",
      "(3125, 36)\n"
     ]
    }
   ],
   "source": [
    "print(data[(data['DebtRatio']>=0)&(data[\"DebtRatio\"]<0.25)].shape)\n",
    "print(data[(data['DebtRatio']>=0)&(data[\"DebtRatio\"]<0.25)&(data['SeriousDlqin2yrs']==1)].shape)"
   ]
  },
  {
   "cell_type": "code",
   "execution_count": 222,
   "metadata": {},
   "outputs": [
    {
     "name": "stdout",
     "output_type": "stream",
     "text": [
      "(41345, 36)\n",
      "(2530, 36)\n"
     ]
    }
   ],
   "source": [
    "print(data[(data['DebtRatio']>=0.25)&(data[\"DebtRatio\"]<0.5)].shape)\n",
    "print(data[(data['DebtRatio']>=0.25)&(data[\"DebtRatio\"]<0.5)&(data['SeriousDlqin2yrs']==1)].shape)"
   ]
  },
  {
   "cell_type": "code",
   "execution_count": 223,
   "metadata": {},
   "outputs": [
    {
     "name": "stdout",
     "output_type": "stream",
     "text": [
      "(15733, 36)\n",
      "(1484, 36)\n"
     ]
    }
   ],
   "source": [
    "print(data[(data['DebtRatio']>=0.5)&(data[\"DebtRatio\"]<0.75)].shape)\n",
    "print(data[(data['DebtRatio']>=0.5)&(data[\"DebtRatio\"]<0.75)&(data['SeriousDlqin2yrs']==1)].shape)"
   ]
  },
  {
   "cell_type": "code",
   "execution_count": 224,
   "metadata": {},
   "outputs": [
    {
     "name": "stdout",
     "output_type": "stream",
     "text": [
      "(5199, 36)\n",
      "(593, 36)\n"
     ]
    }
   ],
   "source": [
    "print(data[(data['DebtRatio']>=0.75)&(data[\"DebtRatio\"]<1)].shape)\n",
    "print(data[(data['DebtRatio']>=0.75)&(data[\"DebtRatio\"]<1)&(data['SeriousDlqin2yrs']==1)].shape)\n"
   ]
  },
  {
   "cell_type": "code",
   "execution_count": 225,
   "metadata": {},
   "outputs": [
    {
     "name": "stdout",
     "output_type": "stream",
     "text": [
      "(35366, 36)\n",
      "(2294, 36)\n"
     ]
    }
   ],
   "source": [
    "print(data[(data['DebtRatio']>=1)&(data[\"DebtRatio\"]<1500000)].shape)\n",
    "print(data[(data['DebtRatio']>=1)&(data[\"DebtRatio\"]<1500000)&(data['SeriousDlqin2yrs']==1)].shape)"
   ]
  },
  {
   "cell_type": "code",
   "execution_count": 226,
   "metadata": {},
   "outputs": [
    {
     "data": {
      "image/png": "[encoded data removed]",
      "text/plain": [
       "<matplotlib.figure.Figure at 0xa694160>"
      ]
     },
     "metadata": {},
     "output_type": "display_data"
    }
   ],
   "source": [
    "plot_distribution(data,'DebtRatio','SeriousDlqin2yrs')"
   ]
  },
  {
   "cell_type": "code",
   "execution_count": 227,
   "metadata": {
    "collapsed": true
   },
   "outputs": [],
   "source": [
    "bins = np.array([-0.1,0,0.25,0.5,0.75,1,10000000])"
   ]
  },
  {
   "cell_type": "code",
   "execution_count": 228,
   "metadata": {
    "collapsed": true
   },
   "outputs": [],
   "source": [
    "inds = np.digitize(data['DebtRatio'],bins,right=True)"
   ]
  },
  {
   "cell_type": "code",
   "execution_count": 229,
   "metadata": {
    "collapsed": true
   },
   "outputs": [],
   "source": [
    "data['dr_bins']=inds"
   ]
  },
  {
   "cell_type": "code",
   "execution_count": 230,
   "metadata": {
    "collapsed": true
   },
   "outputs": [],
   "source": [
    "data_with_dummies_dr = pd.get_dummies(data['dr_bins'], prefix= 'dr')"
   ]
  },
  {
   "cell_type": "code",
   "execution_count": 231,
   "metadata": {},
   "outputs": [
    {
     "name": "stdout",
     "output_type": "stream",
     "text": [
      "<class 'pandas.core.frame.DataFrame'>\n",
      "RangeIndex: 150000 entries, 0 to 149999\n",
      "Data columns (total 6 columns):\n",
      "dr_1    150000 non-null uint8\n",
      "dr_2    150000 non-null uint8\n",
      "dr_3    150000 non-null uint8\n",
      "dr_4    150000 non-null uint8\n",
      "dr_5    150000 non-null uint8\n",
      "dr_6    150000 non-null uint8\n",
      "dtypes: uint8(6)\n",
      "memory usage: 879.0 KB\n"
     ]
    }
   ],
   "source": [
    "data_with_dummies_dr.info()"
   ]
  },
  {
   "cell_type": "code",
   "execution_count": 232,
   "metadata": {
    "collapsed": true
   },
   "outputs": [],
   "source": [
    "del data_with_dummies_dr['dr_6']"
   ]
  },
  {
   "cell_type": "code",
   "execution_count": 233,
   "metadata": {
    "collapsed": true
   },
   "outputs": [],
   "source": [
    "#x=data['DebtRatio']"
   ]
  },
  {
   "cell_type": "code",
   "execution_count": 234,
   "metadata": {
    "collapsed": true
   },
   "outputs": [],
   "source": [
    "#for n in range(x.size):\n",
    "   # print(bins[inds[n]-1], \"<=\", x[n], \"<\", bins[inds[n]])"
   ]
  },
  {
   "cell_type": "code",
   "execution_count": 235,
   "metadata": {
    "collapsed": true
   },
   "outputs": [],
   "source": [
    "data['dr_1']=data_with_dummies_dr['dr_1']"
   ]
  },
  {
   "cell_type": "code",
   "execution_count": 236,
   "metadata": {
    "collapsed": true
   },
   "outputs": [],
   "source": [
    "data['dr_2']=data_with_dummies_dr['dr_2']"
   ]
  },
  {
   "cell_type": "code",
   "execution_count": 237,
   "metadata": {
    "collapsed": true
   },
   "outputs": [],
   "source": [
    "data['dr_3']=data_with_dummies_dr['dr_3']"
   ]
  },
  {
   "cell_type": "code",
   "execution_count": 238,
   "metadata": {
    "collapsed": true
   },
   "outputs": [],
   "source": [
    "data['dr_4']=data_with_dummies_dr['dr_4']"
   ]
  },
  {
   "cell_type": "code",
   "execution_count": 239,
   "metadata": {
    "collapsed": true
   },
   "outputs": [],
   "source": [
    "data['dr_5']=data_with_dummies_dr['dr_5']"
   ]
  },
  {
   "cell_type": "code",
   "execution_count": 240,
   "metadata": {
    "collapsed": true
   },
   "outputs": [],
   "source": [
    "#data['dr_6']=data_with_dummies_dr['dr_6']"
   ]
  },
  {
   "cell_type": "code",
   "execution_count": 241,
   "metadata": {
    "collapsed": true
   },
   "outputs": [],
   "source": [
    "#data.info()"
   ]
  },
  {
   "cell_type": "code",
   "execution_count": 242,
   "metadata": {
    "collapsed": true
   },
   "outputs": [],
   "source": [
    "del data['dr_bins']"
   ]
  },
  {
   "cell_type": "code",
   "execution_count": 243,
   "metadata": {
    "collapsed": true
   },
   "outputs": [],
   "source": [
    "del data['DebtRatio']"
   ]
  },
  {
   "cell_type": "markdown",
   "metadata": {},
   "source": [
    "# Revolving utilization"
   ]
  },
  {
   "cell_type": "code",
   "execution_count": 244,
   "metadata": {},
   "outputs": [
    {
     "data": {
      "text/plain": [
       "<function matplotlib.pyplot.show>"
      ]
     },
     "execution_count": 244,
     "metadata": {},
     "output_type": "execute_result"
    },
    {
     "data": {
      "image/png": "[encoded data removed]",
      "text/plain": [
       "<matplotlib.figure.Figure at 0xcfa26d8>"
      ]
     },
     "metadata": {},
     "output_type": "display_data"
    }
   ],
   "source": [
    "plt.hist(data['RevolvingUtilizationOfUnsecuredLines'],bins=[0,1,2,10])\n",
    "plt.show"
   ]
  },
  {
   "cell_type": "code",
   "execution_count": 245,
   "metadata": {},
   "outputs": [
    {
     "name": "stdout",
     "output_type": "stream",
     "text": [
      "(10878, 40)\n",
      "(320, 40)\n"
     ]
    }
   ],
   "source": [
    "print(data[data['RevolvingUtilizationOfUnsecuredLines']==0].shape)\n",
    "print(data[(data['RevolvingUtilizationOfUnsecuredLines']==0)&(data['SeriousDlqin2yrs']==1)].shape)"
   ]
  },
  {
   "cell_type": "code",
   "execution_count": 246,
   "metadata": {},
   "outputs": [
    {
     "name": "stdout",
     "output_type": "stream",
     "text": [
      "(76779, 40)\n",
      "(1553, 40)\n"
     ]
    }
   ],
   "source": [
    "print(data[(data['RevolvingUtilizationOfUnsecuredLines']>0)&(data['RevolvingUtilizationOfUnsecuredLines']<=0.25)].shape)\n",
    "print(data[(data['RevolvingUtilizationOfUnsecuredLines']>0)&(data['RevolvingUtilizationOfUnsecuredLines']<=0.25)&(data['SeriousDlqin2yrs']==1)].shape)"
   ]
  },
  {
   "cell_type": "code",
   "execution_count": 247,
   "metadata": {},
   "outputs": [
    {
     "name": "stdout",
     "output_type": "stream",
     "text": [
      "(21055, 40)\n",
      "(1114, 40)\n"
     ]
    }
   ],
   "source": [
    "print(data[(data['RevolvingUtilizationOfUnsecuredLines']>0.25)&(data['RevolvingUtilizationOfUnsecuredLines']<=0.5)].shape)\n",
    "print(data[(data['RevolvingUtilizationOfUnsecuredLines']>0.25)&(data['RevolvingUtilizationOfUnsecuredLines']<=0.5)&(data['SeriousDlqin2yrs']==1)].shape)"
   ]
  },
  {
   "cell_type": "code",
   "execution_count": 248,
   "metadata": {},
   "outputs": [
    {
     "name": "stdout",
     "output_type": "stream",
     "text": [
      "(13764, 40)\n",
      "(1394, 40)\n"
     ]
    }
   ],
   "source": [
    "print(data[(data['RevolvingUtilizationOfUnsecuredLines']>0.5)&(data['RevolvingUtilizationOfUnsecuredLines']<=0.75)].shape)\n",
    "print(data[(data['RevolvingUtilizationOfUnsecuredLines']>0.5)&(data['RevolvingUtilizationOfUnsecuredLines']<=0.75)&(data['SeriousDlqin2yrs']==1)].shape)"
   ]
  },
  {
   "cell_type": "code",
   "execution_count": 249,
   "metadata": {},
   "outputs": [
    {
     "name": "stdout",
     "output_type": "stream",
     "text": [
      "(24203, 40)\n",
      "(4408, 40)\n"
     ]
    }
   ],
   "source": [
    "print(data[(data['RevolvingUtilizationOfUnsecuredLines']>0.75)&(data['RevolvingUtilizationOfUnsecuredLines']<=1)].shape)\n",
    "print(data[(data['RevolvingUtilizationOfUnsecuredLines']>0.75)&(data['RevolvingUtilizationOfUnsecuredLines']<=1)&(data['SeriousDlqin2yrs']==1)].shape)"
   ]
  },
  {
   "cell_type": "code",
   "execution_count": 250,
   "metadata": {},
   "outputs": [
    {
     "name": "stdout",
     "output_type": "stream",
     "text": [
      "(2950, 40)\n",
      "(1183, 40)\n"
     ]
    }
   ],
   "source": [
    "print(data[(data['RevolvingUtilizationOfUnsecuredLines']>1)&(data['RevolvingUtilizationOfUnsecuredLines']<=2)].shape)\n",
    "print(data[(data['RevolvingUtilizationOfUnsecuredLines']>1)&(data['RevolvingUtilizationOfUnsecuredLines']<=2)&(data['SeriousDlqin2yrs']==1)].shape)"
   ]
  },
  {
   "cell_type": "code",
   "execution_count": 251,
   "metadata": {},
   "outputs": [
    {
     "data": {
      "text/plain": [
       "(371, 40)"
      ]
     },
     "execution_count": 251,
     "metadata": {},
     "output_type": "execute_result"
    }
   ],
   "source": [
    "data[(data['RevolvingUtilizationOfUnsecuredLines']>2)&(data['RevolvingUtilizationOfUnsecuredLines']<=1000000)].shape"
   ]
  },
  {
   "cell_type": "code",
   "execution_count": 252,
   "metadata": {
    "collapsed": true
   },
   "outputs": [],
   "source": [
    "bins = np.array([-1,0,0.25,0.5,0.75,1,1000000])"
   ]
  },
  {
   "cell_type": "code",
   "execution_count": 253,
   "metadata": {
    "collapsed": true
   },
   "outputs": [],
   "source": [
    "inds = np.digitize(data['RevolvingUtilizationOfUnsecuredLines'],bins,right=True)"
   ]
  },
  {
   "cell_type": "code",
   "execution_count": 254,
   "metadata": {
    "collapsed": true
   },
   "outputs": [],
   "source": [
    "data['rcu_bins']=inds"
   ]
  },
  {
   "cell_type": "code",
   "execution_count": 255,
   "metadata": {
    "collapsed": true
   },
   "outputs": [],
   "source": [
    "data_with_dummies_rcu = pd.get_dummies(data['rcu_bins'], prefix= 'rcu')"
   ]
  },
  {
   "cell_type": "code",
   "execution_count": 256,
   "metadata": {},
   "outputs": [
    {
     "name": "stdout",
     "output_type": "stream",
     "text": [
      "<class 'pandas.core.frame.DataFrame'>\n",
      "RangeIndex: 150000 entries, 0 to 149999\n",
      "Data columns (total 6 columns):\n",
      "rcu_1    150000 non-null uint8\n",
      "rcu_2    150000 non-null uint8\n",
      "rcu_3    150000 non-null uint8\n",
      "rcu_4    150000 non-null uint8\n",
      "rcu_5    150000 non-null uint8\n",
      "rcu_6    150000 non-null uint8\n",
      "dtypes: uint8(6)\n",
      "memory usage: 879.0 KB\n"
     ]
    }
   ],
   "source": [
    "data_with_dummies_rcu.info()"
   ]
  },
  {
   "cell_type": "code",
   "execution_count": 257,
   "metadata": {
    "collapsed": true
   },
   "outputs": [],
   "source": [
    "del data_with_dummies_rcu['rcu_6']"
   ]
  },
  {
   "cell_type": "code",
   "execution_count": 258,
   "metadata": {
    "collapsed": true
   },
   "outputs": [],
   "source": [
    "data['rcu_1']=data_with_dummies_rcu['rcu_1']"
   ]
  },
  {
   "cell_type": "code",
   "execution_count": 259,
   "metadata": {
    "collapsed": true
   },
   "outputs": [],
   "source": [
    "data['rcu_2']=data_with_dummies_rcu['rcu_2']"
   ]
  },
  {
   "cell_type": "code",
   "execution_count": 260,
   "metadata": {
    "collapsed": true
   },
   "outputs": [],
   "source": [
    "data['rcu_3']=data_with_dummies_rcu['rcu_3']"
   ]
  },
  {
   "cell_type": "code",
   "execution_count": 261,
   "metadata": {
    "collapsed": true
   },
   "outputs": [],
   "source": [
    "data['rcu_4']=data_with_dummies_rcu['rcu_4']"
   ]
  },
  {
   "cell_type": "code",
   "execution_count": 262,
   "metadata": {
    "collapsed": true
   },
   "outputs": [],
   "source": [
    "data['rcu_5']=data_with_dummies_rcu['rcu_5']"
   ]
  },
  {
   "cell_type": "code",
   "execution_count": 263,
   "metadata": {
    "collapsed": true
   },
   "outputs": [],
   "source": [
    "#data.info()"
   ]
  },
  {
   "cell_type": "code",
   "execution_count": 264,
   "metadata": {
    "collapsed": true
   },
   "outputs": [],
   "source": [
    "del data['RevolvingUtilizationOfUnsecuredLines']"
   ]
  },
  {
   "cell_type": "code",
   "execution_count": 265,
   "metadata": {
    "collapsed": true
   },
   "outputs": [],
   "source": [
    "del data['rcu_bins']"
   ]
  },
  {
   "cell_type": "code",
   "execution_count": 266,
   "metadata": {},
   "outputs": [
    {
     "name": "stdout",
     "output_type": "stream",
     "text": [
      "<class 'pandas.core.frame.DataFrame'>\n",
      "RangeIndex: 150000 entries, 0 to 149999\n",
      "Data columns (total 44 columns):\n",
      "SeriousDlqin2yrs    150000 non-null int64\n",
      "MonthlyIncome       150000 non-null float64\n",
      "age_1               150000 non-null uint8\n",
      "age_2               150000 non-null uint8\n",
      "age_3               150000 non-null uint8\n",
      "age_4               150000 non-null uint8\n",
      "age_5               150000 non-null uint8\n",
      "age_6               150000 non-null uint8\n",
      "age_7               150000 non-null uint8\n",
      "dep_1               150000 non-null uint8\n",
      "dep_2               150000 non-null uint8\n",
      "dep_3               150000 non-null uint8\n",
      "dep_4               150000 non-null uint8\n",
      "dep_5               150000 non-null uint8\n",
      "30_59_1             150000 non-null uint8\n",
      "30_59_2             150000 non-null uint8\n",
      "30_59_3             150000 non-null uint8\n",
      "30_59_4             150000 non-null uint8\n",
      "60_1                150000 non-null uint8\n",
      "60_2                150000 non-null uint8\n",
      "60_3                150000 non-null uint8\n",
      "60_4                150000 non-null uint8\n",
      "90_1                150000 non-null uint8\n",
      "90_2                150000 non-null uint8\n",
      "90_3                150000 non-null uint8\n",
      "90_4                150000 non-null uint8\n",
      "90_5                150000 non-null uint8\n",
      "cl_1                150000 non-null uint8\n",
      "cl_2                150000 non-null uint8\n",
      "cl_3                150000 non-null uint8\n",
      "cl_4                150000 non-null uint8\n",
      "re_1                150000 non-null uint8\n",
      "re_2                150000 non-null uint8\n",
      "re_3                150000 non-null uint8\n",
      "dr_1                150000 non-null uint8\n",
      "dr_2                150000 non-null uint8\n",
      "dr_3                150000 non-null uint8\n",
      "dr_4                150000 non-null uint8\n",
      "dr_5                150000 non-null uint8\n",
      "rcu_1               150000 non-null uint8\n",
      "rcu_2               150000 non-null uint8\n",
      "rcu_3               150000 non-null uint8\n",
      "rcu_4               150000 non-null uint8\n",
      "rcu_5               150000 non-null uint8\n",
      "dtypes: float64(1), int64(1), uint8(42)\n",
      "memory usage: 8.3 MB\n"
     ]
    }
   ],
   "source": [
    "data.info()"
   ]
  },
  {
   "cell_type": "code",
   "execution_count": 267,
   "metadata": {
    "collapsed": true
   },
   "outputs": [],
   "source": [
    "x=data.sort_values('MonthlyIncome')\n",
    "inc_sort=x['MonthlyIncome']\n",
    "inc_cut=pd.qcut(inc_sort,10,labels=['1','2','3','4','5','6','7','8','9','10'])\n",
    "#inc_cut"
   ]
  },
  {
   "cell_type": "code",
   "execution_count": 268,
   "metadata": {
    "collapsed": true
   },
   "outputs": [],
   "source": [
    "data['inc_cut']=inc_cut"
   ]
  },
  {
   "cell_type": "code",
   "execution_count": 269,
   "metadata": {
    "collapsed": true
   },
   "outputs": [],
   "source": [
    "del data['MonthlyIncome']\n",
    "#del data['income_scaled']"
   ]
  },
  {
   "cell_type": "code",
   "execution_count": 270,
   "metadata": {
    "collapsed": true
   },
   "outputs": [],
   "source": [
    "data_with_dummies_inc = pd.get_dummies(data['inc_cut'], prefix= 'inc')"
   ]
  },
  {
   "cell_type": "code",
   "execution_count": 271,
   "metadata": {},
   "outputs": [
    {
     "name": "stdout",
     "output_type": "stream",
     "text": [
      "<class 'pandas.core.frame.DataFrame'>\n",
      "RangeIndex: 150000 entries, 0 to 149999\n",
      "Data columns (total 10 columns):\n",
      "inc_1     150000 non-null uint8\n",
      "inc_10    150000 non-null uint8\n",
      "inc_2     150000 non-null uint8\n",
      "inc_3     150000 non-null uint8\n",
      "inc_4     150000 non-null uint8\n",
      "inc_5     150000 non-null uint8\n",
      "inc_6     150000 non-null uint8\n",
      "inc_7     150000 non-null uint8\n",
      "inc_8     150000 non-null uint8\n",
      "inc_9     150000 non-null uint8\n",
      "dtypes: uint8(10)\n",
      "memory usage: 1.4 MB\n"
     ]
    }
   ],
   "source": [
    "data_with_dummies_inc.info()"
   ]
  },
  {
   "cell_type": "code",
   "execution_count": 272,
   "metadata": {
    "collapsed": true
   },
   "outputs": [],
   "source": [
    "del data_with_dummies_inc['inc_10']"
   ]
  },
  {
   "cell_type": "code",
   "execution_count": 273,
   "metadata": {
    "collapsed": true
   },
   "outputs": [],
   "source": [
    "data['inc_1']=data_with_dummies_inc['inc_1']"
   ]
  },
  {
   "cell_type": "code",
   "execution_count": 274,
   "metadata": {
    "collapsed": true
   },
   "outputs": [],
   "source": [
    "data['inc_2']=data_with_dummies_inc['inc_2']"
   ]
  },
  {
   "cell_type": "code",
   "execution_count": 275,
   "metadata": {
    "collapsed": true
   },
   "outputs": [],
   "source": [
    "data['inc_3']=data_with_dummies_inc['inc_3']"
   ]
  },
  {
   "cell_type": "code",
   "execution_count": 276,
   "metadata": {
    "collapsed": true
   },
   "outputs": [],
   "source": [
    "data['inc_4']=data_with_dummies_inc['inc_4']"
   ]
  },
  {
   "cell_type": "code",
   "execution_count": 277,
   "metadata": {
    "collapsed": true
   },
   "outputs": [],
   "source": [
    "data['inc_5']=data_with_dummies_inc['inc_5']"
   ]
  },
  {
   "cell_type": "code",
   "execution_count": 278,
   "metadata": {
    "collapsed": true
   },
   "outputs": [],
   "source": [
    "data['inc_6']=data_with_dummies_inc['inc_6']"
   ]
  },
  {
   "cell_type": "code",
   "execution_count": 279,
   "metadata": {
    "collapsed": true
   },
   "outputs": [],
   "source": [
    "data['inc_7']=data_with_dummies_inc['inc_7']"
   ]
  },
  {
   "cell_type": "code",
   "execution_count": 280,
   "metadata": {
    "collapsed": true
   },
   "outputs": [],
   "source": [
    "data['inc_8']=data_with_dummies_inc['inc_8']"
   ]
  },
  {
   "cell_type": "code",
   "execution_count": 281,
   "metadata": {
    "collapsed": true
   },
   "outputs": [],
   "source": [
    "data['inc_9']=data_with_dummies_inc['inc_9']"
   ]
  },
  {
   "cell_type": "code",
   "execution_count": 282,
   "metadata": {
    "collapsed": true
   },
   "outputs": [],
   "source": [
    "del data['inc_cut']"
   ]
  },
  {
   "cell_type": "code",
   "execution_count": 283,
   "metadata": {},
   "outputs": [
    {
     "name": "stdout",
     "output_type": "stream",
     "text": [
      "<class 'pandas.core.frame.DataFrame'>\n",
      "RangeIndex: 150000 entries, 0 to 149999\n",
      "Data columns (total 52 columns):\n",
      "SeriousDlqin2yrs    150000 non-null int64\n",
      "age_1               150000 non-null uint8\n",
      "age_2               150000 non-null uint8\n",
      "age_3               150000 non-null uint8\n",
      "age_4               150000 non-null uint8\n",
      "age_5               150000 non-null uint8\n",
      "age_6               150000 non-null uint8\n",
      "age_7               150000 non-null uint8\n",
      "dep_1               150000 non-null uint8\n",
      "dep_2               150000 non-null uint8\n",
      "dep_3               150000 non-null uint8\n",
      "dep_4               150000 non-null uint8\n",
      "dep_5               150000 non-null uint8\n",
      "30_59_1             150000 non-null uint8\n",
      "30_59_2             150000 non-null uint8\n",
      "30_59_3             150000 non-null uint8\n",
      "30_59_4             150000 non-null uint8\n",
      "60_1                150000 non-null uint8\n",
      "60_2                150000 non-null uint8\n",
      "60_3                150000 non-null uint8\n",
      "60_4                150000 non-null uint8\n",
      "90_1                150000 non-null uint8\n",
      "90_2                150000 non-null uint8\n",
      "90_3                150000 non-null uint8\n",
      "90_4                150000 non-null uint8\n",
      "90_5                150000 non-null uint8\n",
      "cl_1                150000 non-null uint8\n",
      "cl_2                150000 non-null uint8\n",
      "cl_3                150000 non-null uint8\n",
      "cl_4                150000 non-null uint8\n",
      "re_1                150000 non-null uint8\n",
      "re_2                150000 non-null uint8\n",
      "re_3                150000 non-null uint8\n",
      "dr_1                150000 non-null uint8\n",
      "dr_2                150000 non-null uint8\n",
      "dr_3                150000 non-null uint8\n",
      "dr_4                150000 non-null uint8\n",
      "dr_5                150000 non-null uint8\n",
      "rcu_1               150000 non-null uint8\n",
      "rcu_2               150000 non-null uint8\n",
      "rcu_3               150000 non-null uint8\n",
      "rcu_4               150000 non-null uint8\n",
      "rcu_5               150000 non-null uint8\n",
      "inc_1               150000 non-null uint8\n",
      "inc_2               150000 non-null uint8\n",
      "inc_3               150000 non-null uint8\n",
      "inc_4               150000 non-null uint8\n",
      "inc_5               150000 non-null uint8\n",
      "inc_6               150000 non-null uint8\n",
      "inc_7               150000 non-null uint8\n",
      "inc_8               150000 non-null uint8\n",
      "inc_9               150000 non-null uint8\n",
      "dtypes: int64(1), uint8(51)\n",
      "memory usage: 8.4 MB\n"
     ]
    }
   ],
   "source": [
    "data.info()"
   ]
  },
  {
   "cell_type": "code",
   "execution_count": 284,
   "metadata": {},
   "outputs": [
    {
     "data": {
      "text/html": [
       "<div>\n",
       "<style>\n",
       "    .dataframe thead tr:only-child th {\n",
       "        text-align: right;\n",
       "    }\n",
       "\n",
       "    .dataframe thead th {\n",
       "        text-align: left;\n",
       "    }\n",
       "\n",
       "    .dataframe tbody tr th {\n",
       "        vertical-align: top;\n",
       "    }\n",
       "</style>\n",
       "<table border=\"1\" class=\"dataframe\">\n",
       "  <thead>\n",
       "    <tr style=\"text-align: right;\">\n",
       "      <th></th>\n",
       "      <th>SeriousDlqin2yrs</th>\n",
       "      <th>age_1</th>\n",
       "      <th>age_2</th>\n",
       "      <th>age_3</th>\n",
       "      <th>age_4</th>\n",
       "      <th>age_5</th>\n",
       "      <th>age_6</th>\n",
       "      <th>age_7</th>\n",
       "      <th>dep_1</th>\n",
       "      <th>dep_2</th>\n",
       "      <th>...</th>\n",
       "      <th>rcu_5</th>\n",
       "      <th>inc_1</th>\n",
       "      <th>inc_2</th>\n",
       "      <th>inc_3</th>\n",
       "      <th>inc_4</th>\n",
       "      <th>inc_5</th>\n",
       "      <th>inc_6</th>\n",
       "      <th>inc_7</th>\n",
       "      <th>inc_8</th>\n",
       "      <th>inc_9</th>\n",
       "    </tr>\n",
       "  </thead>\n",
       "  <tbody>\n",
       "    <tr>\n",
       "      <th>count</th>\n",
       "      <td>150000.000000</td>\n",
       "      <td>150000.000000</td>\n",
       "      <td>150000.00000</td>\n",
       "      <td>150000.000000</td>\n",
       "      <td>150000.000000</td>\n",
       "      <td>150000.000000</td>\n",
       "      <td>150000.000000</td>\n",
       "      <td>150000.000000</td>\n",
       "      <td>150000.000000</td>\n",
       "      <td>150000.000000</td>\n",
       "      <td>...</td>\n",
       "      <td>150000.000000</td>\n",
       "      <td>150000.000000</td>\n",
       "      <td>150000.000000</td>\n",
       "      <td>150000.000000</td>\n",
       "      <td>150000.000000</td>\n",
       "      <td>150000.000000</td>\n",
       "      <td>150000.000000</td>\n",
       "      <td>150000.000000</td>\n",
       "      <td>150000.000000</td>\n",
       "      <td>150000.000000</td>\n",
       "    </tr>\n",
       "    <tr>\n",
       "      <th>mean</th>\n",
       "      <td>0.066840</td>\n",
       "      <td>0.071720</td>\n",
       "      <td>0.16226</td>\n",
       "      <td>0.233580</td>\n",
       "      <td>0.232040</td>\n",
       "      <td>0.182827</td>\n",
       "      <td>0.084667</td>\n",
       "      <td>0.029647</td>\n",
       "      <td>0.605507</td>\n",
       "      <td>0.175440</td>\n",
       "      <td>...</td>\n",
       "      <td>0.161353</td>\n",
       "      <td>0.100073</td>\n",
       "      <td>0.099967</td>\n",
       "      <td>0.119533</td>\n",
       "      <td>0.102447</td>\n",
       "      <td>0.102587</td>\n",
       "      <td>0.100013</td>\n",
       "      <td>0.075393</td>\n",
       "      <td>0.100033</td>\n",
       "      <td>0.100060</td>\n",
       "    </tr>\n",
       "    <tr>\n",
       "      <th>std</th>\n",
       "      <td>0.249746</td>\n",
       "      <td>0.258025</td>\n",
       "      <td>0.36869</td>\n",
       "      <td>0.423109</td>\n",
       "      <td>0.422136</td>\n",
       "      <td>0.386526</td>\n",
       "      <td>0.278386</td>\n",
       "      <td>0.169611</td>\n",
       "      <td>0.488743</td>\n",
       "      <td>0.380344</td>\n",
       "      <td>...</td>\n",
       "      <td>0.367858</td>\n",
       "      <td>0.300099</td>\n",
       "      <td>0.299957</td>\n",
       "      <td>0.324416</td>\n",
       "      <td>0.303236</td>\n",
       "      <td>0.303419</td>\n",
       "      <td>0.300019</td>\n",
       "      <td>0.264026</td>\n",
       "      <td>0.300045</td>\n",
       "      <td>0.300081</td>\n",
       "    </tr>\n",
       "    <tr>\n",
       "      <th>min</th>\n",
       "      <td>0.000000</td>\n",
       "      <td>0.000000</td>\n",
       "      <td>0.00000</td>\n",
       "      <td>0.000000</td>\n",
       "      <td>0.000000</td>\n",
       "      <td>0.000000</td>\n",
       "      <td>0.000000</td>\n",
       "      <td>0.000000</td>\n",
       "      <td>0.000000</td>\n",
       "      <td>0.000000</td>\n",
       "      <td>...</td>\n",
       "      <td>0.000000</td>\n",
       "      <td>0.000000</td>\n",
       "      <td>0.000000</td>\n",
       "      <td>0.000000</td>\n",
       "      <td>0.000000</td>\n",
       "      <td>0.000000</td>\n",
       "      <td>0.000000</td>\n",
       "      <td>0.000000</td>\n",
       "      <td>0.000000</td>\n",
       "      <td>0.000000</td>\n",
       "    </tr>\n",
       "    <tr>\n",
       "      <th>25%</th>\n",
       "      <td>0.000000</td>\n",
       "      <td>0.000000</td>\n",
       "      <td>0.00000</td>\n",
       "      <td>0.000000</td>\n",
       "      <td>0.000000</td>\n",
       "      <td>0.000000</td>\n",
       "      <td>0.000000</td>\n",
       "      <td>0.000000</td>\n",
       "      <td>0.000000</td>\n",
       "      <td>0.000000</td>\n",
       "      <td>...</td>\n",
       "      <td>0.000000</td>\n",
       "      <td>0.000000</td>\n",
       "      <td>0.000000</td>\n",
       "      <td>0.000000</td>\n",
       "      <td>0.000000</td>\n",
       "      <td>0.000000</td>\n",
       "      <td>0.000000</td>\n",
       "      <td>0.000000</td>\n",
       "      <td>0.000000</td>\n",
       "      <td>0.000000</td>\n",
       "    </tr>\n",
       "    <tr>\n",
       "      <th>50%</th>\n",
       "      <td>0.000000</td>\n",
       "      <td>0.000000</td>\n",
       "      <td>0.00000</td>\n",
       "      <td>0.000000</td>\n",
       "      <td>0.000000</td>\n",
       "      <td>0.000000</td>\n",
       "      <td>0.000000</td>\n",
       "      <td>0.000000</td>\n",
       "      <td>1.000000</td>\n",
       "      <td>0.000000</td>\n",
       "      <td>...</td>\n",
       "      <td>0.000000</td>\n",
       "      <td>0.000000</td>\n",
       "      <td>0.000000</td>\n",
       "      <td>0.000000</td>\n",
       "      <td>0.000000</td>\n",
       "      <td>0.000000</td>\n",
       "      <td>0.000000</td>\n",
       "      <td>0.000000</td>\n",
       "      <td>0.000000</td>\n",
       "      <td>0.000000</td>\n",
       "    </tr>\n",
       "    <tr>\n",
       "      <th>75%</th>\n",
       "      <td>0.000000</td>\n",
       "      <td>0.000000</td>\n",
       "      <td>0.00000</td>\n",
       "      <td>0.000000</td>\n",
       "      <td>0.000000</td>\n",
       "      <td>0.000000</td>\n",
       "      <td>0.000000</td>\n",
       "      <td>0.000000</td>\n",
       "      <td>1.000000</td>\n",
       "      <td>0.000000</td>\n",
       "      <td>...</td>\n",
       "      <td>0.000000</td>\n",
       "      <td>0.000000</td>\n",
       "      <td>0.000000</td>\n",
       "      <td>0.000000</td>\n",
       "      <td>0.000000</td>\n",
       "      <td>0.000000</td>\n",
       "      <td>0.000000</td>\n",
       "      <td>0.000000</td>\n",
       "      <td>0.000000</td>\n",
       "      <td>0.000000</td>\n",
       "    </tr>\n",
       "    <tr>\n",
       "      <th>max</th>\n",
       "      <td>1.000000</td>\n",
       "      <td>1.000000</td>\n",
       "      <td>1.00000</td>\n",
       "      <td>1.000000</td>\n",
       "      <td>1.000000</td>\n",
       "      <td>1.000000</td>\n",
       "      <td>1.000000</td>\n",
       "      <td>1.000000</td>\n",
       "      <td>1.000000</td>\n",
       "      <td>1.000000</td>\n",
       "      <td>...</td>\n",
       "      <td>1.000000</td>\n",
       "      <td>1.000000</td>\n",
       "      <td>1.000000</td>\n",
       "      <td>1.000000</td>\n",
       "      <td>1.000000</td>\n",
       "      <td>1.000000</td>\n",
       "      <td>1.000000</td>\n",
       "      <td>1.000000</td>\n",
       "      <td>1.000000</td>\n",
       "      <td>1.000000</td>\n",
       "    </tr>\n",
       "  </tbody>\n",
       "</table>\n",
       "<p>8 rows × 52 columns</p>\n",
       "</div>"
      ],
      "text/plain": [
       "       SeriousDlqin2yrs          age_1         age_2          age_3  \\\n",
       "count     150000.000000  150000.000000  150000.00000  150000.000000   \n",
       "mean           0.066840       0.071720       0.16226       0.233580   \n",
       "std            0.249746       0.258025       0.36869       0.423109   \n",
       "min            0.000000       0.000000       0.00000       0.000000   \n",
       "25%            0.000000       0.000000       0.00000       0.000000   \n",
       "50%            0.000000       0.000000       0.00000       0.000000   \n",
       "75%            0.000000       0.000000       0.00000       0.000000   \n",
       "max            1.000000       1.000000       1.00000       1.000000   \n",
       "\n",
       "               age_4          age_5          age_6          age_7  \\\n",
       "count  150000.000000  150000.000000  150000.000000  150000.000000   \n",
       "mean        0.232040       0.182827       0.084667       0.029647   \n",
       "std         0.422136       0.386526       0.278386       0.169611   \n",
       "min         0.000000       0.000000       0.000000       0.000000   \n",
       "25%         0.000000       0.000000       0.000000       0.000000   \n",
       "50%         0.000000       0.000000       0.000000       0.000000   \n",
       "75%         0.000000       0.000000       0.000000       0.000000   \n",
       "max         1.000000       1.000000       1.000000       1.000000   \n",
       "\n",
       "               dep_1          dep_2      ...                rcu_5  \\\n",
       "count  150000.000000  150000.000000      ...        150000.000000   \n",
       "mean        0.605507       0.175440      ...             0.161353   \n",
       "std         0.488743       0.380344      ...             0.367858   \n",
       "min         0.000000       0.000000      ...             0.000000   \n",
       "25%         0.000000       0.000000      ...             0.000000   \n",
       "50%         1.000000       0.000000      ...             0.000000   \n",
       "75%         1.000000       0.000000      ...             0.000000   \n",
       "max         1.000000       1.000000      ...             1.000000   \n",
       "\n",
       "               inc_1          inc_2          inc_3          inc_4  \\\n",
       "count  150000.000000  150000.000000  150000.000000  150000.000000   \n",
       "mean        0.100073       0.099967       0.119533       0.102447   \n",
       "std         0.300099       0.299957       0.324416       0.303236   \n",
       "min         0.000000       0.000000       0.000000       0.000000   \n",
       "25%         0.000000       0.000000       0.000000       0.000000   \n",
       "50%         0.000000       0.000000       0.000000       0.000000   \n",
       "75%         0.000000       0.000000       0.000000       0.000000   \n",
       "max         1.000000       1.000000       1.000000       1.000000   \n",
       "\n",
       "               inc_5          inc_6          inc_7          inc_8  \\\n",
       "count  150000.000000  150000.000000  150000.000000  150000.000000   \n",
       "mean        0.102587       0.100013       0.075393       0.100033   \n",
       "std         0.303419       0.300019       0.264026       0.300045   \n",
       "min         0.000000       0.000000       0.000000       0.000000   \n",
       "25%         0.000000       0.000000       0.000000       0.000000   \n",
       "50%         0.000000       0.000000       0.000000       0.000000   \n",
       "75%         0.000000       0.000000       0.000000       0.000000   \n",
       "max         1.000000       1.000000       1.000000       1.000000   \n",
       "\n",
       "               inc_9  \n",
       "count  150000.000000  \n",
       "mean        0.100060  \n",
       "std         0.300081  \n",
       "min         0.000000  \n",
       "25%         0.000000  \n",
       "50%         0.000000  \n",
       "75%         0.000000  \n",
       "max         1.000000  \n",
       "\n",
       "[8 rows x 52 columns]"
      ]
     },
     "execution_count": 284,
     "metadata": {},
     "output_type": "execute_result"
    }
   ],
   "source": [
    "data.describe()"
   ]
  },
  {
   "cell_type": "code",
   "execution_count": 289,
   "metadata": {
    "collapsed": true
   },
   "outputs": [],
   "source": [
    "writer = pd.ExcelWriter('Transformed_data/transformed_data_5.xlsx')"
   ]
  },
  {
   "cell_type": "code",
   "execution_count": 290,
   "metadata": {
    "collapsed": true
   },
   "outputs": [],
   "source": [
    "data.to_excel(writer,'Sheet1')"
   ]
  },
  {
   "cell_type": "code",
   "execution_count": null,
   "metadata": {
    "collapsed": true
   },
   "outputs": [],
   "source": []
  },
  {
   "cell_type": "code",
   "execution_count": null,
   "metadata": {
    "collapsed": true
   },
   "outputs": [],
   "source": []
  },
  {
   "cell_type": "code",
   "execution_count": null,
   "metadata": {
    "collapsed": true
   },
   "outputs": [],
   "source": []
  },
  {
   "cell_type": "code",
   "execution_count": null,
   "metadata": {
    "collapsed": true
   },
   "outputs": [],
   "source": []
  },
  {
   "cell_type": "code",
   "execution_count": null,
   "metadata": {
    "collapsed": true
   },
   "outputs": [],
   "source": []
  },
  {
   "cell_type": "code",
   "execution_count": null,
   "metadata": {
    "collapsed": true
   },
   "outputs": [],
   "source": []
  }
 ],
 "metadata": {
  "kernelspec": {
   "display_name": "Python 3",
   "language": "python",
   "name": "python3"
  },
  "language_info": {
   "codemirror_mode": {
    "name": "ipython",
    "version": 3
   },
   "file_extension": ".py",
   "mimetype": "text/x-python",
   "name": "python",
   "nbconvert_exporter": "python",
   "pygments_lexer": "ipython3",
   "version": "3.6.1"
  }
 },
 "nbformat": 4,
 "nbformat_minor": 2
}
